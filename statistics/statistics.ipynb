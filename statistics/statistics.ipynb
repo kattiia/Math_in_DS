{
 "cells": [
  {
   "cell_type": "code",
   "execution_count": 12,
   "id": "37e143c8",
   "metadata": {},
   "outputs": [],
   "source": [
    "import numpy as np\n",
    "from scipy import stats\n",
    "import seaborn as sns\n",
    "import matplotlib.pyplot as plt"
   ]
  },
  {
   "cell_type": "code",
   "execution_count": 2,
   "id": "be689449",
   "metadata": {},
   "outputs": [],
   "source": [
    "#Подсчет частоты значений в выборке\n",
    "counter={}\n",
    "def counter_dict(x):\n",
    "    for i in x:\n",
    "        if i not in counter:\n",
    "            counter[i]=np.sum(x==i)\n",
    "    return dict(sorted(counter.items()))"
   ]
  },
  {
   "cell_type": "code",
   "execution_count": 3,
   "id": "03902c68",
   "metadata": {},
   "outputs": [],
   "source": [
    "# Расчет мат ожидания\n",
    "expected_value={}\n",
    "def search_expected_value(d):\n",
    "    for k, v in d.items():\n",
    "        expected_value[k]=v/(data.size)\n",
    "    return expected_value"
   ]
  },
  {
   "cell_type": "code",
   "execution_count": 9,
   "id": "9fb11d06",
   "metadata": {},
   "outputs": [],
   "source": [
    "# Суммирование значений для функции распределения\n",
    "def x_y(probability):\n",
    "    x=[]\n",
    "    y=[]\n",
    "    for k, v in probability.items():\n",
    "        x.append(k)\n",
    "        y.append(v)\n",
    "\n",
    "    for i in range (1, len(y)):\n",
    "        y[i]+=round(y[i-1],2)\n",
    "    return x, y"
   ]
  },
  {
   "cell_type": "code",
   "execution_count": 5,
   "id": "a2fe2245",
   "metadata": {},
   "outputs": [
    {
     "data": {
      "text/plain": [
       "array([ -20,  -60,  -10,   30,   60,   70,  -10,  -30, -120, -100,  -80,\n",
       "         20,   40,  -60,  -10,   20,   30,  -80,   60,   70], dtype=int64)"
      ]
     },
     "execution_count": 5,
     "metadata": {},
     "output_type": "execute_result"
    }
   ],
   "source": [
    "data=np.array([-20, -60, -10, 30, 60, 70, -10, -30, -120, -100, -80, 20, 40, -60, -10, 20, 30, -80, 60, 70], dtype='int64')\n",
    "data"
   ]
  },
  {
   "cell_type": "code",
   "execution_count": 6,
   "id": "740518eb",
   "metadata": {},
   "outputs": [
    {
     "data": {
      "text/plain": [
       "{-120: 1,\n",
       " -100: 1,\n",
       " -80: 2,\n",
       " -60: 2,\n",
       " -30: 1,\n",
       " -20: 1,\n",
       " -10: 3,\n",
       " 20: 2,\n",
       " 30: 2,\n",
       " 40: 1,\n",
       " 60: 2,\n",
       " 70: 2}"
      ]
     },
     "execution_count": 6,
     "metadata": {},
     "output_type": "execute_result"
    }
   ],
   "source": [
    "counter_x=counter_dict(data)\n",
    "counter_x"
   ]
  },
  {
   "cell_type": "code",
   "execution_count": 7,
   "id": "5dfab195",
   "metadata": {},
   "outputs": [
    {
     "data": {
      "text/plain": [
       "{-120: 0.05,\n",
       " -100: 0.05,\n",
       " -80: 0.1,\n",
       " -60: 0.1,\n",
       " -30: 0.05,\n",
       " -20: 0.05,\n",
       " -10: 0.15,\n",
       " 20: 0.1,\n",
       " 30: 0.1,\n",
       " 40: 0.05,\n",
       " 60: 0.1,\n",
       " 70: 0.1}"
      ]
     },
     "execution_count": 7,
     "metadata": {},
     "output_type": "execute_result"
    }
   ],
   "source": [
    "probability=search_expected_value(counter_x)\n",
    "probability"
   ]
  },
  {
   "cell_type": "code",
   "execution_count": 10,
   "id": "84ce6f92",
   "metadata": {},
   "outputs": [],
   "source": [
    "x, y=x_y(probability)"
   ]
  },
  {
   "cell_type": "markdown",
   "id": "0ef136e2",
   "metadata": {},
   "source": [
    "#### Функция распределения"
   ]
  },
  {
   "cell_type": "code",
   "execution_count": 13,
   "id": "9e537585",
   "metadata": {},
   "outputs": [
    {
     "data": {
      "text/plain": [
       "[<matplotlib.lines.Line2D at 0x1e490576250>]"
      ]
     },
     "execution_count": 13,
     "metadata": {},
     "output_type": "execute_result"
    },
    {
     "data": {
      "image/png": "[encoded data removed]",
      "text/plain": [
       "<Figure size 1080x288 with 1 Axes>"
      ]
     },
     "metadata": {
      "needs_background": "light"
     },
     "output_type": "display_data"
    }
   ],
   "source": [
    "fig = plt.subplots(figsize=(15, 4))\n",
    "plt.step(x,y)"
   ]
  },
  {
   "cell_type": "markdown",
   "id": "bc383a93",
   "metadata": {},
   "source": [
    "##### Гистограмма"
   ]
  },
  {
   "cell_type": "code",
   "execution_count": 17,
   "id": "60f759ba",
   "metadata": {},
   "outputs": [
    {
     "data": {
      "text/plain": [
       "(array([2., 4., 1., 4., 4., 5.]),\n",
       " array([-120.        ,  -88.33333333,  -56.66666667,  -25.        ,\n",
       "           6.66666667,   38.33333333,   70.        ]),\n",
       " <BarContainer object of 6 artists>)"
      ]
     },
     "execution_count": 17,
     "metadata": {},
     "output_type": "execute_result"
    },
    {
     "data": {
      "image/png": "[encoded data removed]",
      "text/plain": [
       "<Figure size 432x288 with 1 Axes>"
      ]
     },
     "metadata": {
      "needs_background": "light"
     },
     "output_type": "display_data"
    }
   ],
   "source": [
    "plt.hist(data, bins=6, color='g')"
   ]
  },
  {
   "cell_type": "code",
   "execution_count": null,
   "id": "97a3018c",
   "metadata": {},
   "outputs": [],
   "source": []
  }
 ],
 "metadata": {
  "kernelspec": {
   "display_name": "Python 3 (ipykernel)",
   "language": "python",
   "name": "python3"
  },
  "language_info": {
   "codemirror_mode": {
    "name": "ipython",
    "version": 3
   },
   "file_extension": ".py",
   "mimetype": "text/x-python",
   "name": "python",
   "nbconvert_exporter": "python",
   "pygments_lexer": "ipython3",
   "version": "3.9.12"
  }
 },
 "nbformat": 4,
 "nbformat_minor": 5
}
