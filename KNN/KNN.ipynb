{
 "cells": [
  {
   "cell_type": "code",
   "execution_count": 1,
   "id": "9345a589",
   "metadata": {},
   "outputs": [],
   "source": [
    "import pandas as pd\n",
    "import seaborn as sns\n",
    "import numpy as np\n",
    "from sklearn.model_selection import train_test_split"
   ]
  },
  {
   "cell_type": "markdown",
   "id": "bf964c6d",
   "metadata": {},
   "source": [
    "### Алгоритм KNN\n"
   ]
  },
  {
   "cell_type": "code",
   "execution_count": 2,
   "id": "7724eba4",
   "metadata": {},
   "outputs": [],
   "source": [
    "def knn_distances(xTrain,xTest,k):\n",
    "    #Евклидово расстояние\n",
    "    distances = -2 * xTrain@xTest.T + np.sum(xTest**2,axis=1) + np.sum(xTrain**2,axis=1)[:, np.newaxis]\n",
    "    #Заменяем отрицательные числа на 0\n",
    "    distances[distances < 0] = 0\n",
    "    distances = distances**.5\n",
    "    indices = np.argsort(distances, 0) #получаем индексы\n",
    "    distances = np.sort(distances,0) #отсортированные расстояния\n",
    "    #возвращаем k ближайших соседей\n",
    "    return indices[0:k,:], distances[0:k,:]\n",
    "\n",
    "\n",
    "def knn_predictions(xTrain,yTrain,xTest,k=3):\n",
    "    indices, distances = knn_distances(xTrain,xTest,k)\n",
    "    yTrain = yTrain.flatten()\n",
    "    rows, columns = indices.shape\n",
    "    predictions = list()\n",
    "    for j in range(columns):\n",
    "        temp = list()\n",
    "        for i in range(rows):\n",
    "            cell = indices[i][j]\n",
    "            temp.append(yTrain[cell])\n",
    "        predictions.append(max(temp,key=temp.count))\n",
    "    predictions=np.array(predictions)\n",
    "    return predictions\n",
    "\n",
    "def knn_accuracy(yTest,predictions):\n",
    "    x=yTest.flatten()==predictions.flatten()\n",
    "    grade=np.mean(x)\n",
    "    return np.round(grade*100,2)"
   ]
  },
  {
   "cell_type": "markdown",
   "id": "1acd7076",
   "metadata": {},
   "source": [
    "### Подготовка данных"
   ]
  },
  {
   "cell_type": "code",
   "execution_count": 3,
   "id": "64a9746d",
   "metadata": {},
   "outputs": [],
   "source": [
    "def transform_data(data):\n",
    "    data['Пол'] = data['Пол'].replace(pol)\n",
    "    data['Кто_ты'] = data['Кто_ты'].replace(who_are_you)\n",
    "    data['Дом'] = data['Дом'].replace(dom)\n",
    "    data['Характер'] = data['Характер'].replace(haracter)\n",
    "    data['Работаете'] = data['Работаете'].replace(work)\n",
    "    data['Доход'] = data['Доход'].replace(dohod)\n",
    "   "
   ]
  },
  {
   "cell_type": "code",
   "execution_count": 4,
   "id": "dcfc0baa",
   "metadata": {},
   "outputs": [],
   "source": [
    "data=pd.read_excel('data.xlsx')"
   ]
  },
  {
   "cell_type": "code",
   "execution_count": 5,
   "id": "0aeec3c9",
   "metadata": {},
   "outputs": [
    {
     "data": {
      "text/html": [
       "<div>\n",
       "<style scoped>\n",
       "    .dataframe tbody tr th:only-of-type {\n",
       "        vertical-align: middle;\n",
       "    }\n",
       "\n",
       "    .dataframe tbody tr th {\n",
       "        vertical-align: top;\n",
       "    }\n",
       "\n",
       "    .dataframe thead th {\n",
       "        text-align: right;\n",
       "    }\n",
       "</style>\n",
       "<table border=\"1\" class=\"dataframe\">\n",
       "  <thead>\n",
       "    <tr style=\"text-align: right;\">\n",
       "      <th></th>\n",
       "      <th>Возраст</th>\n",
       "      <th>Пол</th>\n",
       "      <th>Кто_ты</th>\n",
       "      <th>Подъем</th>\n",
       "      <th>Дом</th>\n",
       "      <th>Характер</th>\n",
       "      <th>Работаете</th>\n",
       "      <th>Доход</th>\n",
       "      <th>Присутствие</th>\n",
       "    </tr>\n",
       "  </thead>\n",
       "  <tbody>\n",
       "    <tr>\n",
       "      <th>0</th>\n",
       "      <td>22</td>\n",
       "      <td>ж</td>\n",
       "      <td>Сова</td>\n",
       "      <td>8.0</td>\n",
       "      <td>Да</td>\n",
       "      <td>Интроверт</td>\n",
       "      <td>Да</td>\n",
       "      <td>Доволен</td>\n",
       "      <td>Да</td>\n",
       "    </tr>\n",
       "    <tr>\n",
       "      <th>1</th>\n",
       "      <td>21</td>\n",
       "      <td>м</td>\n",
       "      <td>Сова</td>\n",
       "      <td>9.0</td>\n",
       "      <td>Нет</td>\n",
       "      <td>Интроверт</td>\n",
       "      <td>Да</td>\n",
       "      <td>Не доволен</td>\n",
       "      <td>Нет</td>\n",
       "    </tr>\n",
       "    <tr>\n",
       "      <th>2</th>\n",
       "      <td>22</td>\n",
       "      <td>м</td>\n",
       "      <td>Сова</td>\n",
       "      <td>10.0</td>\n",
       "      <td>Да</td>\n",
       "      <td>Интроверт</td>\n",
       "      <td>Нет</td>\n",
       "      <td>Не доволен</td>\n",
       "      <td>Да</td>\n",
       "    </tr>\n",
       "    <tr>\n",
       "      <th>3</th>\n",
       "      <td>22</td>\n",
       "      <td>м</td>\n",
       "      <td>Сова</td>\n",
       "      <td>9.0</td>\n",
       "      <td>Да</td>\n",
       "      <td>Экстраверт</td>\n",
       "      <td>Да</td>\n",
       "      <td>Доволен</td>\n",
       "      <td>Нет</td>\n",
       "    </tr>\n",
       "    <tr>\n",
       "      <th>4</th>\n",
       "      <td>21</td>\n",
       "      <td>ж</td>\n",
       "      <td>Сова</td>\n",
       "      <td>11.0</td>\n",
       "      <td>Да</td>\n",
       "      <td>Интроверт</td>\n",
       "      <td>Да</td>\n",
       "      <td>Доволен</td>\n",
       "      <td>Да</td>\n",
       "    </tr>\n",
       "    <tr>\n",
       "      <th>5</th>\n",
       "      <td>21</td>\n",
       "      <td>м</td>\n",
       "      <td>Сова</td>\n",
       "      <td>10.0</td>\n",
       "      <td>Нет</td>\n",
       "      <td>Интроверт</td>\n",
       "      <td>Да</td>\n",
       "      <td>Доволен</td>\n",
       "      <td>Нет</td>\n",
       "    </tr>\n",
       "    <tr>\n",
       "      <th>6</th>\n",
       "      <td>22</td>\n",
       "      <td>м</td>\n",
       "      <td>Сова</td>\n",
       "      <td>6.0</td>\n",
       "      <td>Да</td>\n",
       "      <td>Экстраверт</td>\n",
       "      <td>Да</td>\n",
       "      <td>Не доволен</td>\n",
       "      <td>Нет</td>\n",
       "    </tr>\n",
       "    <tr>\n",
       "      <th>7</th>\n",
       "      <td>22</td>\n",
       "      <td>м</td>\n",
       "      <td>Сова</td>\n",
       "      <td>9.0</td>\n",
       "      <td>Да</td>\n",
       "      <td>Интроверт</td>\n",
       "      <td>Нет</td>\n",
       "      <td>Не доволен</td>\n",
       "      <td>Да</td>\n",
       "    </tr>\n",
       "    <tr>\n",
       "      <th>8</th>\n",
       "      <td>22</td>\n",
       "      <td>м</td>\n",
       "      <td>Сова</td>\n",
       "      <td>11.0</td>\n",
       "      <td>Да</td>\n",
       "      <td>Интроверт</td>\n",
       "      <td>Да</td>\n",
       "      <td>Доволен</td>\n",
       "      <td>Нет</td>\n",
       "    </tr>\n",
       "    <tr>\n",
       "      <th>9</th>\n",
       "      <td>21</td>\n",
       "      <td>м</td>\n",
       "      <td>Жаворонок</td>\n",
       "      <td>7.5</td>\n",
       "      <td>Да</td>\n",
       "      <td>Экстраверт</td>\n",
       "      <td>Да</td>\n",
       "      <td>Не доволен</td>\n",
       "      <td>Нет</td>\n",
       "    </tr>\n",
       "  </tbody>\n",
       "</table>\n",
       "</div>"
      ],
      "text/plain": [
       "   Возраст Пол     Кто_ты  Подъем  Дом    Характер Работаете       Доход  \\\n",
       "0       22   ж       Сова     8.0   Да   Интроверт        Да     Доволен   \n",
       "1       21   м       Сова     9.0  Нет   Интроверт        Да  Не доволен   \n",
       "2       22   м       Сова    10.0   Да   Интроверт       Нет  Не доволен   \n",
       "3       22   м       Сова     9.0   Да  Экстраверт        Да     Доволен   \n",
       "4       21   ж       Сова    11.0   Да   Интроверт        Да     Доволен   \n",
       "5       21   м       Сова    10.0  Нет   Интроверт        Да     Доволен   \n",
       "6       22   м       Сова     6.0   Да  Экстраверт        Да  Не доволен   \n",
       "7       22   м       Сова     9.0   Да   Интроверт       Нет  Не доволен   \n",
       "8       22   м       Сова    11.0   Да   Интроверт        Да     Доволен   \n",
       "9       21   м  Жаворонок     7.5   Да  Экстраверт        Да  Не доволен   \n",
       "\n",
       "  Присутствие  \n",
       "0          Да  \n",
       "1         Нет  \n",
       "2          Да  \n",
       "3         Нет  \n",
       "4          Да  \n",
       "5         Нет  \n",
       "6         Нет  \n",
       "7          Да  \n",
       "8         Нет  \n",
       "9         Нет  "
      ]
     },
     "execution_count": 5,
     "metadata": {},
     "output_type": "execute_result"
    }
   ],
   "source": [
    "data"
   ]
  },
  {
   "cell_type": "code",
   "execution_count": 6,
   "id": "b1b26618",
   "metadata": {},
   "outputs": [],
   "source": [
    "pol={'м':1, \"ж\":0}\n",
    "who_are_you={'Сова':0, 'Жаворонок':1}\n",
    "dom={'Да':0, \"Нет\":1}\n",
    "haracter={'Интроверт':1, \"Экстраверт\":0}\n",
    "work={'Да':1, \"Нет\":0}\n",
    "dohod={'Доволен':1, \"Не доволен\":0}\n",
    "poseshenie={'Да':1, \"Нет\":0}"
   ]
  },
  {
   "cell_type": "code",
   "execution_count": 7,
   "id": "f5d65870",
   "metadata": {},
   "outputs": [],
   "source": [
    "transform_data(data)\n",
    "data['Присутствие'] = data['Присутствие'].replace(poseshenie)"
   ]
  },
  {
   "cell_type": "code",
   "execution_count": 8,
   "id": "d199cc8f",
   "metadata": {},
   "outputs": [
    {
     "data": {
      "text/html": [
       "<div>\n",
       "<style scoped>\n",
       "    .dataframe tbody tr th:only-of-type {\n",
       "        vertical-align: middle;\n",
       "    }\n",
       "\n",
       "    .dataframe tbody tr th {\n",
       "        vertical-align: top;\n",
       "    }\n",
       "\n",
       "    .dataframe thead th {\n",
       "        text-align: right;\n",
       "    }\n",
       "</style>\n",
       "<table border=\"1\" class=\"dataframe\">\n",
       "  <thead>\n",
       "    <tr style=\"text-align: right;\">\n",
       "      <th></th>\n",
       "      <th>Возраст</th>\n",
       "      <th>Пол</th>\n",
       "      <th>Кто_ты</th>\n",
       "      <th>Подъем</th>\n",
       "      <th>Дом</th>\n",
       "      <th>Характер</th>\n",
       "      <th>Работаете</th>\n",
       "      <th>Доход</th>\n",
       "      <th>Присутствие</th>\n",
       "    </tr>\n",
       "  </thead>\n",
       "  <tbody>\n",
       "    <tr>\n",
       "      <th>0</th>\n",
       "      <td>22</td>\n",
       "      <td>0</td>\n",
       "      <td>0</td>\n",
       "      <td>8.0</td>\n",
       "      <td>0</td>\n",
       "      <td>1</td>\n",
       "      <td>1</td>\n",
       "      <td>1</td>\n",
       "      <td>1</td>\n",
       "    </tr>\n",
       "    <tr>\n",
       "      <th>1</th>\n",
       "      <td>21</td>\n",
       "      <td>1</td>\n",
       "      <td>0</td>\n",
       "      <td>9.0</td>\n",
       "      <td>1</td>\n",
       "      <td>1</td>\n",
       "      <td>1</td>\n",
       "      <td>0</td>\n",
       "      <td>0</td>\n",
       "    </tr>\n",
       "    <tr>\n",
       "      <th>2</th>\n",
       "      <td>22</td>\n",
       "      <td>1</td>\n",
       "      <td>0</td>\n",
       "      <td>10.0</td>\n",
       "      <td>0</td>\n",
       "      <td>1</td>\n",
       "      <td>0</td>\n",
       "      <td>0</td>\n",
       "      <td>1</td>\n",
       "    </tr>\n",
       "    <tr>\n",
       "      <th>3</th>\n",
       "      <td>22</td>\n",
       "      <td>1</td>\n",
       "      <td>0</td>\n",
       "      <td>9.0</td>\n",
       "      <td>0</td>\n",
       "      <td>0</td>\n",
       "      <td>1</td>\n",
       "      <td>1</td>\n",
       "      <td>0</td>\n",
       "    </tr>\n",
       "    <tr>\n",
       "      <th>4</th>\n",
       "      <td>21</td>\n",
       "      <td>0</td>\n",
       "      <td>0</td>\n",
       "      <td>11.0</td>\n",
       "      <td>0</td>\n",
       "      <td>1</td>\n",
       "      <td>1</td>\n",
       "      <td>1</td>\n",
       "      <td>1</td>\n",
       "    </tr>\n",
       "    <tr>\n",
       "      <th>5</th>\n",
       "      <td>21</td>\n",
       "      <td>1</td>\n",
       "      <td>0</td>\n",
       "      <td>10.0</td>\n",
       "      <td>1</td>\n",
       "      <td>1</td>\n",
       "      <td>1</td>\n",
       "      <td>1</td>\n",
       "      <td>0</td>\n",
       "    </tr>\n",
       "    <tr>\n",
       "      <th>6</th>\n",
       "      <td>22</td>\n",
       "      <td>1</td>\n",
       "      <td>0</td>\n",
       "      <td>6.0</td>\n",
       "      <td>0</td>\n",
       "      <td>0</td>\n",
       "      <td>1</td>\n",
       "      <td>0</td>\n",
       "      <td>0</td>\n",
       "    </tr>\n",
       "    <tr>\n",
       "      <th>7</th>\n",
       "      <td>22</td>\n",
       "      <td>1</td>\n",
       "      <td>0</td>\n",
       "      <td>9.0</td>\n",
       "      <td>0</td>\n",
       "      <td>1</td>\n",
       "      <td>0</td>\n",
       "      <td>0</td>\n",
       "      <td>1</td>\n",
       "    </tr>\n",
       "    <tr>\n",
       "      <th>8</th>\n",
       "      <td>22</td>\n",
       "      <td>1</td>\n",
       "      <td>0</td>\n",
       "      <td>11.0</td>\n",
       "      <td>0</td>\n",
       "      <td>1</td>\n",
       "      <td>1</td>\n",
       "      <td>1</td>\n",
       "      <td>0</td>\n",
       "    </tr>\n",
       "    <tr>\n",
       "      <th>9</th>\n",
       "      <td>21</td>\n",
       "      <td>1</td>\n",
       "      <td>1</td>\n",
       "      <td>7.5</td>\n",
       "      <td>0</td>\n",
       "      <td>0</td>\n",
       "      <td>1</td>\n",
       "      <td>0</td>\n",
       "      <td>0</td>\n",
       "    </tr>\n",
       "  </tbody>\n",
       "</table>\n",
       "</div>"
      ],
      "text/plain": [
       "   Возраст  Пол  Кто_ты  Подъем  Дом  Характер  Работаете  Доход  Присутствие\n",
       "0       22    0       0     8.0    0         1          1      1            1\n",
       "1       21    1       0     9.0    1         1          1      0            0\n",
       "2       22    1       0    10.0    0         1          0      0            1\n",
       "3       22    1       0     9.0    0         0          1      1            0\n",
       "4       21    0       0    11.0    0         1          1      1            1\n",
       "5       21    1       0    10.0    1         1          1      1            0\n",
       "6       22    1       0     6.0    0         0          1      0            0\n",
       "7       22    1       0     9.0    0         1          0      0            1\n",
       "8       22    1       0    11.0    0         1          1      1            0\n",
       "9       21    1       1     7.5    0         0          1      0            0"
      ]
     },
     "execution_count": 8,
     "metadata": {},
     "output_type": "execute_result"
    }
   ],
   "source": [
    "data"
   ]
  },
  {
   "cell_type": "code",
   "execution_count": 12,
   "id": "da389570",
   "metadata": {},
   "outputs": [
    {
     "data": {
      "text/plain": [
       "array([[21.,  1.,  0.,  9.,  1.,  1.,  1.],\n",
       "       [22.,  1.,  0.,  6.,  0.,  0.,  1.],\n",
       "       [21.,  0.,  0., 11.,  0.,  1.,  1.]])"
      ]
     },
     "execution_count": 12,
     "metadata": {},
     "output_type": "execute_result"
    }
   ],
   "source": [
    "xTrain, xTest = train_test_split(data, test_size=0.25)\n",
    "yTrain = np.array(xTrain.iloc[:,7])\n",
    "xTrain = np.array(xTrain.iloc[:,0:7])\n",
    "yTest = np.array(xTest.iloc[:,7])\n",
    "xTest = np.array(xTest.iloc[:,0:7])\n",
    "xTest"
   ]
  },
  {
   "cell_type": "markdown",
   "id": "5102dcba",
   "metadata": {},
   "source": [
    "### Обучение\n"
   ]
  },
  {
   "cell_type": "code",
   "execution_count": 13,
   "id": "4185053d",
   "metadata": {},
   "outputs": [
    {
     "data": {
      "text/plain": [
       "array([1, 0, 1], dtype=int64)"
      ]
     },
     "execution_count": 13,
     "metadata": {},
     "output_type": "execute_result"
    }
   ],
   "source": [
    "predictions = knn_predictions(xTrain, yTrain, xTest,2)\n",
    "predictions"
   ]
  },
  {
   "cell_type": "code",
   "execution_count": 14,
   "id": "ab4f1b98",
   "metadata": {},
   "outputs": [
    {
     "name": "stdout",
     "output_type": "stream",
     "text": [
      "Accuracy: 66.67 %\n"
     ]
    }
   ],
   "source": [
    "print('Accuracy:',knn_accuracy(predictions,yTest),'%')"
   ]
  },
  {
   "cell_type": "markdown",
   "id": "71aefe44",
   "metadata": {},
   "source": [
    "### Предсказание"
   ]
  },
  {
   "cell_type": "code",
   "execution_count": 15,
   "id": "c323ffaa",
   "metadata": {},
   "outputs": [
    {
     "name": "stdout",
     "output_type": "stream",
     "text": [
      "Ответьте: Возраст 22\n",
      "Ответьте: Пол м\n",
      "Ответьте: Кто_ты Сова\n",
      "Ответьте: Подъем 11\n",
      "Ответьте: Дом Да\n",
      "Ответьте: Характер Интроверт\n",
      "Ответьте: Работаете Нет\n",
      "Ответьте: Доход Доволен\n"
     ]
    }
   ],
   "source": [
    "l=[]\n",
    "for i in list(data.drop(columns='Присутствие')):\n",
    "    n=input(f'Ответьте: {i} ')\n",
    "    l.append(n)"
   ]
  },
  {
   "cell_type": "code",
   "execution_count": 16,
   "id": "e8f4339b",
   "metadata": {},
   "outputs": [],
   "source": [
    "data_test=pd.DataFrame(data=[l], columns=list(data.drop(columns='Присутствие')))\n",
    "transform_data(data_test)\n",
    "data_test = data_test.astype({'Возраст': np.int16})\n",
    "data_test = data_test.astype({'Подъем': np.int16})\n"
   ]
  },
  {
   "cell_type": "code",
   "execution_count": 17,
   "id": "e7122bec",
   "metadata": {},
   "outputs": [
    {
     "data": {
      "text/plain": [
       "array([[22,  1,  0, 11,  0,  1,  0]], dtype=int64)"
      ]
     },
     "execution_count": 17,
     "metadata": {},
     "output_type": "execute_result"
    }
   ],
   "source": [
    "xpred = np.array(data_test.iloc[:,0:7])\n",
    "xpred"
   ]
  },
  {
   "cell_type": "code",
   "execution_count": 18,
   "id": "9599f0b3",
   "metadata": {},
   "outputs": [
    {
     "name": "stdout",
     "output_type": "stream",
     "text": [
      "Не пришел\n"
     ]
    }
   ],
   "source": [
    "prediction = knn_predictions(xTrain, yTrain, xpred,3)\n",
    "print('Не пришел' if prediction[0]==0 else 'Пришел')\n"
   ]
  },
  {
   "cell_type": "markdown",
   "id": "0973303d",
   "metadata": {},
   "source": [
    "### Подбор параметра"
   ]
  },
  {
   "cell_type": "code",
   "execution_count": 19,
   "id": "1b883339",
   "metadata": {},
   "outputs": [],
   "source": [
    "from sklearn.metrics import accuracy_score\n",
    "from sklearn import metrics\n",
    "import matplotlib.pyplot as plt "
   ]
  },
  {
   "cell_type": "code",
   "execution_count": 20,
   "id": "3da04ee4",
   "metadata": {},
   "outputs": [
    {
     "name": "stdout",
     "output_type": "stream",
     "text": [
      "Лучший результат: 66.67 %, k= 1\n"
     ]
    }
   ],
   "source": [
    "Ks = 15\n",
    "mean_acc = np.zeros((Ks-1))\n",
    "std_acc = np.zeros((Ks-1))\n",
    "for n in range(1,Ks):\n",
    "    yhat = knn_predictions(xTrain,yTrain,xTest,n)\n",
    "    mean_acc[n-1] = metrics.accuracy_score(yTest, yhat)\n",
    "    std_acc[n-1] = np.std(yhat==yTest)/np.sqrt(yhat.shape[0])\n",
    "\n",
    "print( \"Лучший результат:\", np.round(mean_acc.max()*100,2),\"%, k=\", mean_acc.argmax()+1) "
   ]
  },
  {
   "cell_type": "code",
   "execution_count": null,
   "id": "0c25308c",
   "metadata": {},
   "outputs": [],
   "source": []
  },
  {
   "cell_type": "code",
   "execution_count": null,
   "id": "8256f06c",
   "metadata": {},
   "outputs": [],
   "source": []
  }
 ],
 "metadata": {
  "kernelspec": {
   "display_name": "Python 3 (ipykernel)",
   "language": "python",
   "name": "python3"
  },
  "language_info": {
   "codemirror_mode": {
    "name": "ipython",
    "version": 3
   },
   "file_extension": ".py",
   "mimetype": "text/x-python",
   "name": "python",
   "nbconvert_exporter": "python",
   "pygments_lexer": "ipython3",
   "version": "3.9.12"
  }
 },
 "nbformat": 4,
 "nbformat_minor": 5
}
