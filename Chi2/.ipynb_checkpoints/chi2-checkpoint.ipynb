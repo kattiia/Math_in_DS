{
 "cells": [
  {
   "cell_type": "code",
   "execution_count": 1,
   "id": "0ea14921",
   "metadata": {},
   "outputs": [],
   "source": [
    "import scipy.stats as sps\n",
    "import pandas as pd\n",
    "import numpy as np\n",
    "import matplotlib.pyplot as plt\n",
    "import seaborn as sns\n",
    "from scipy.stats import chisquare"
   ]
  },
  {
   "cell_type": "code",
   "execution_count": 2,
   "id": "b5c730ca",
   "metadata": {},
   "outputs": [],
   "source": [
    "df=pd.read_csv('Data.csv')\n",
    "\n"
   ]
  },
  {
   "cell_type": "code",
   "execution_count": 3,
   "id": "44512243",
   "metadata": {},
   "outputs": [],
   "source": [
    "df['InvoiceDate'] = pd.to_datetime(df['InvoiceDate'], format='%Y-%m-%d')"
   ]
  },
  {
   "cell_type": "code",
   "execution_count": 4,
   "id": "9d39be7b",
   "metadata": {},
   "outputs": [],
   "source": [
    "df['InvoiceDate'] = df['InvoiceDate'].dt.strftime('%Y-%m-%d')"
   ]
  },
  {
   "cell_type": "code",
   "execution_count": 5,
   "id": "b26d3523",
   "metadata": {},
   "outputs": [
    {
     "data": {
      "text/html": [
       "<div>\n",
       "<style scoped>\n",
       "    .dataframe tbody tr th:only-of-type {\n",
       "        vertical-align: middle;\n",
       "    }\n",
       "\n",
       "    .dataframe tbody tr th {\n",
       "        vertical-align: top;\n",
       "    }\n",
       "\n",
       "    .dataframe thead th {\n",
       "        text-align: right;\n",
       "    }\n",
       "</style>\n",
       "<table border=\"1\" class=\"dataframe\">\n",
       "  <thead>\n",
       "    <tr style=\"text-align: right;\">\n",
       "      <th></th>\n",
       "      <th>Invoice</th>\n",
       "      <th>StockCode</th>\n",
       "      <th>Description</th>\n",
       "      <th>Quantity</th>\n",
       "      <th>InvoiceDate</th>\n",
       "      <th>Price</th>\n",
       "      <th>Customer ID</th>\n",
       "      <th>Country</th>\n",
       "    </tr>\n",
       "  </thead>\n",
       "  <tbody>\n",
       "    <tr>\n",
       "      <th>0</th>\n",
       "      <td>489434</td>\n",
       "      <td>85048</td>\n",
       "      <td>15CM CHRISTMAS GLASS BALL 20 LIGHTS</td>\n",
       "      <td>12</td>\n",
       "      <td>2009-12-01</td>\n",
       "      <td>6.95</td>\n",
       "      <td>13085.0</td>\n",
       "      <td>United Kingdom</td>\n",
       "    </tr>\n",
       "    <tr>\n",
       "      <th>1</th>\n",
       "      <td>489434</td>\n",
       "      <td>79323P</td>\n",
       "      <td>PINK CHERRY LIGHTS</td>\n",
       "      <td>12</td>\n",
       "      <td>2009-12-01</td>\n",
       "      <td>6.75</td>\n",
       "      <td>13085.0</td>\n",
       "      <td>United Kingdom</td>\n",
       "    </tr>\n",
       "    <tr>\n",
       "      <th>2</th>\n",
       "      <td>489434</td>\n",
       "      <td>79323W</td>\n",
       "      <td>WHITE CHERRY LIGHTS</td>\n",
       "      <td>12</td>\n",
       "      <td>2009-12-01</td>\n",
       "      <td>6.75</td>\n",
       "      <td>13085.0</td>\n",
       "      <td>United Kingdom</td>\n",
       "    </tr>\n",
       "    <tr>\n",
       "      <th>3</th>\n",
       "      <td>489434</td>\n",
       "      <td>22041</td>\n",
       "      <td>RECORD FRAME 7\" SINGLE SIZE</td>\n",
       "      <td>48</td>\n",
       "      <td>2009-12-01</td>\n",
       "      <td>2.10</td>\n",
       "      <td>13085.0</td>\n",
       "      <td>United Kingdom</td>\n",
       "    </tr>\n",
       "    <tr>\n",
       "      <th>4</th>\n",
       "      <td>489434</td>\n",
       "      <td>21232</td>\n",
       "      <td>STRAWBERRY CERAMIC TRINKET BOX</td>\n",
       "      <td>24</td>\n",
       "      <td>2009-12-01</td>\n",
       "      <td>1.25</td>\n",
       "      <td>13085.0</td>\n",
       "      <td>United Kingdom</td>\n",
       "    </tr>\n",
       "    <tr>\n",
       "      <th>...</th>\n",
       "      <td>...</td>\n",
       "      <td>...</td>\n",
       "      <td>...</td>\n",
       "      <td>...</td>\n",
       "      <td>...</td>\n",
       "      <td>...</td>\n",
       "      <td>...</td>\n",
       "      <td>...</td>\n",
       "    </tr>\n",
       "    <tr>\n",
       "      <th>944463</th>\n",
       "      <td>575312</td>\n",
       "      <td>22083</td>\n",
       "      <td>PAPER CHAIN KIT RETROSPOT</td>\n",
       "      <td>6</td>\n",
       "      <td>2011-11-09</td>\n",
       "      <td>2.95</td>\n",
       "      <td>13588.0</td>\n",
       "      <td>United Kingdom</td>\n",
       "    </tr>\n",
       "    <tr>\n",
       "      <th>944464</th>\n",
       "      <td>575312</td>\n",
       "      <td>23355</td>\n",
       "      <td>HOT WATER BOTTLE KEEP CALM</td>\n",
       "      <td>4</td>\n",
       "      <td>2011-11-09</td>\n",
       "      <td>4.95</td>\n",
       "      <td>13588.0</td>\n",
       "      <td>United Kingdom</td>\n",
       "    </tr>\n",
       "    <tr>\n",
       "      <th>944465</th>\n",
       "      <td>575312</td>\n",
       "      <td>22110</td>\n",
       "      <td>BIRD HOUSE HOT WATER BOTTLE</td>\n",
       "      <td>6</td>\n",
       "      <td>2011-11-09</td>\n",
       "      <td>2.55</td>\n",
       "      <td>13588.0</td>\n",
       "      <td>United Kingdom</td>\n",
       "    </tr>\n",
       "    <tr>\n",
       "      <th>944466</th>\n",
       "      <td>575312</td>\n",
       "      <td>22037</td>\n",
       "      <td>ROBOT BIRTHDAY CARD</td>\n",
       "      <td>12</td>\n",
       "      <td>2011-11-09</td>\n",
       "      <td>0.42</td>\n",
       "      <td>13588.0</td>\n",
       "      <td>United Kingdom</td>\n",
       "    </tr>\n",
       "    <tr>\n",
       "      <th>944467</th>\n",
       "      <td>575312</td>\n",
       "      <td>21790</td>\n",
       "      <td>VINTAGE SNAP CARDS</td>\n",
       "      <td>12</td>\n",
       "      <td>2011-11-09</td>\n",
       "      <td>0.85</td>\n",
       "      <td>13588.0</td>\n",
       "      <td>United Kingdom</td>\n",
       "    </tr>\n",
       "  </tbody>\n",
       "</table>\n",
       "<p>944468 rows × 8 columns</p>\n",
       "</div>"
      ],
      "text/plain": [
       "       Invoice StockCode                          Description  Quantity  \\\n",
       "0       489434     85048  15CM CHRISTMAS GLASS BALL 20 LIGHTS        12   \n",
       "1       489434    79323P                   PINK CHERRY LIGHTS        12   \n",
       "2       489434    79323W                  WHITE CHERRY LIGHTS        12   \n",
       "3       489434     22041         RECORD FRAME 7\" SINGLE SIZE         48   \n",
       "4       489434     21232       STRAWBERRY CERAMIC TRINKET BOX        24   \n",
       "...        ...       ...                                  ...       ...   \n",
       "944463  575312     22083            PAPER CHAIN KIT RETROSPOT         6   \n",
       "944464  575312     23355           HOT WATER BOTTLE KEEP CALM         4   \n",
       "944465  575312     22110          BIRD HOUSE HOT WATER BOTTLE         6   \n",
       "944466  575312     22037                  ROBOT BIRTHDAY CARD        12   \n",
       "944467  575312     21790                   VINTAGE SNAP CARDS        12   \n",
       "\n",
       "       InvoiceDate  Price  Customer ID         Country  \n",
       "0       2009-12-01   6.95      13085.0  United Kingdom  \n",
       "1       2009-12-01   6.75      13085.0  United Kingdom  \n",
       "2       2009-12-01   6.75      13085.0  United Kingdom  \n",
       "3       2009-12-01   2.10      13085.0  United Kingdom  \n",
       "4       2009-12-01   1.25      13085.0  United Kingdom  \n",
       "...            ...    ...          ...             ...  \n",
       "944463  2011-11-09   2.95      13588.0  United Kingdom  \n",
       "944464  2011-11-09   4.95      13588.0  United Kingdom  \n",
       "944465  2011-11-09   2.55      13588.0  United Kingdom  \n",
       "944466  2011-11-09   0.42      13588.0  United Kingdom  \n",
       "944467  2011-11-09   0.85      13588.0  United Kingdom  \n",
       "\n",
       "[944468 rows x 8 columns]"
      ]
     },
     "execution_count": 5,
     "metadata": {},
     "output_type": "execute_result"
    }
   ],
   "source": [
    "df"
   ]
  },
  {
   "cell_type": "code",
   "execution_count": 6,
   "id": "3fa413cc",
   "metadata": {},
   "outputs": [
    {
     "data": {
      "text/html": [
       "<div>\n",
       "<style scoped>\n",
       "    .dataframe tbody tr th:only-of-type {\n",
       "        vertical-align: middle;\n",
       "    }\n",
       "\n",
       "    .dataframe tbody tr th {\n",
       "        vertical-align: top;\n",
       "    }\n",
       "\n",
       "    .dataframe thead th {\n",
       "        text-align: right;\n",
       "    }\n",
       "</style>\n",
       "<table border=\"1\" class=\"dataframe\">\n",
       "  <thead>\n",
       "    <tr style=\"text-align: right;\">\n",
       "      <th></th>\n",
       "      <th>Invoice</th>\n",
       "      <th>StockCode</th>\n",
       "      <th>Description</th>\n",
       "      <th>Quantity</th>\n",
       "      <th>InvoiceDate</th>\n",
       "      <th>Price</th>\n",
       "      <th>Customer ID</th>\n",
       "      <th>Country</th>\n",
       "    </tr>\n",
       "  </thead>\n",
       "  <tbody>\n",
       "    <tr>\n",
       "      <th>178</th>\n",
       "      <td>C489449</td>\n",
       "      <td>22087</td>\n",
       "      <td>PAPER BUNTING WHITE LACE</td>\n",
       "      <td>-12</td>\n",
       "      <td>2009-12-01</td>\n",
       "      <td>2.95</td>\n",
       "      <td>16321.0</td>\n",
       "      <td>Australia</td>\n",
       "    </tr>\n",
       "    <tr>\n",
       "      <th>179</th>\n",
       "      <td>C489449</td>\n",
       "      <td>85206A</td>\n",
       "      <td>CREAM FELT EASTER EGG BASKET</td>\n",
       "      <td>-6</td>\n",
       "      <td>2009-12-01</td>\n",
       "      <td>1.65</td>\n",
       "      <td>16321.0</td>\n",
       "      <td>Australia</td>\n",
       "    </tr>\n",
       "    <tr>\n",
       "      <th>180</th>\n",
       "      <td>C489449</td>\n",
       "      <td>21895</td>\n",
       "      <td>POTTING SHED SOW 'N' GROW SET</td>\n",
       "      <td>-4</td>\n",
       "      <td>2009-12-01</td>\n",
       "      <td>4.25</td>\n",
       "      <td>16321.0</td>\n",
       "      <td>Australia</td>\n",
       "    </tr>\n",
       "    <tr>\n",
       "      <th>181</th>\n",
       "      <td>C489449</td>\n",
       "      <td>21896</td>\n",
       "      <td>POTTING SHED TWINE</td>\n",
       "      <td>-6</td>\n",
       "      <td>2009-12-01</td>\n",
       "      <td>2.10</td>\n",
       "      <td>16321.0</td>\n",
       "      <td>Australia</td>\n",
       "    </tr>\n",
       "    <tr>\n",
       "      <th>182</th>\n",
       "      <td>C489449</td>\n",
       "      <td>22083</td>\n",
       "      <td>PAPER CHAIN KIT RETRO SPOT</td>\n",
       "      <td>-12</td>\n",
       "      <td>2009-12-01</td>\n",
       "      <td>2.95</td>\n",
       "      <td>16321.0</td>\n",
       "      <td>Australia</td>\n",
       "    </tr>\n",
       "    <tr>\n",
       "      <th>...</th>\n",
       "      <td>...</td>\n",
       "      <td>...</td>\n",
       "      <td>...</td>\n",
       "      <td>...</td>\n",
       "      <td>...</td>\n",
       "      <td>...</td>\n",
       "      <td>...</td>\n",
       "      <td>...</td>\n",
       "    </tr>\n",
       "    <tr>\n",
       "      <th>944223</th>\n",
       "      <td>C575224</td>\n",
       "      <td>21928</td>\n",
       "      <td>JUMBO BAG SCANDINAVIAN BLUE PAISLEY</td>\n",
       "      <td>-100</td>\n",
       "      <td>2011-11-09</td>\n",
       "      <td>1.79</td>\n",
       "      <td>17511.0</td>\n",
       "      <td>United Kingdom</td>\n",
       "    </tr>\n",
       "    <tr>\n",
       "      <th>944237</th>\n",
       "      <td>C575257</td>\n",
       "      <td>M</td>\n",
       "      <td>Manual</td>\n",
       "      <td>-4</td>\n",
       "      <td>2011-11-09</td>\n",
       "      <td>10.95</td>\n",
       "      <td>13623.0</td>\n",
       "      <td>United Kingdom</td>\n",
       "    </tr>\n",
       "    <tr>\n",
       "      <th>944238</th>\n",
       "      <td>C575257</td>\n",
       "      <td>37449</td>\n",
       "      <td>CERAMIC CAKE STAND + HANGING CAKES</td>\n",
       "      <td>-1</td>\n",
       "      <td>2011-11-09</td>\n",
       "      <td>9.95</td>\n",
       "      <td>13623.0</td>\n",
       "      <td>United Kingdom</td>\n",
       "    </tr>\n",
       "    <tr>\n",
       "      <th>944239</th>\n",
       "      <td>C575257</td>\n",
       "      <td>11001</td>\n",
       "      <td>ASSTD DESIGN RACING CAR PEN</td>\n",
       "      <td>-1</td>\n",
       "      <td>2011-11-09</td>\n",
       "      <td>1.69</td>\n",
       "      <td>13623.0</td>\n",
       "      <td>United Kingdom</td>\n",
       "    </tr>\n",
       "    <tr>\n",
       "      <th>944295</th>\n",
       "      <td>575287</td>\n",
       "      <td>84508A</td>\n",
       "      <td>check</td>\n",
       "      <td>-39</td>\n",
       "      <td>2011-11-09</td>\n",
       "      <td>0.00</td>\n",
       "      <td>NaN</td>\n",
       "      <td>United Kingdom</td>\n",
       "    </tr>\n",
       "  </tbody>\n",
       "</table>\n",
       "<p>21285 rows × 8 columns</p>\n",
       "</div>"
      ],
      "text/plain": [
       "        Invoice StockCode                          Description  Quantity  \\\n",
       "178     C489449     22087             PAPER BUNTING WHITE LACE       -12   \n",
       "179     C489449    85206A         CREAM FELT EASTER EGG BASKET        -6   \n",
       "180     C489449     21895        POTTING SHED SOW 'N' GROW SET        -4   \n",
       "181     C489449     21896                   POTTING SHED TWINE        -6   \n",
       "182     C489449     22083           PAPER CHAIN KIT RETRO SPOT       -12   \n",
       "...         ...       ...                                  ...       ...   \n",
       "944223  C575224     21928  JUMBO BAG SCANDINAVIAN BLUE PAISLEY      -100   \n",
       "944237  C575257         M                               Manual        -4   \n",
       "944238  C575257     37449   CERAMIC CAKE STAND + HANGING CAKES        -1   \n",
       "944239  C575257     11001          ASSTD DESIGN RACING CAR PEN        -1   \n",
       "944295   575287    84508A                                check       -39   \n",
       "\n",
       "       InvoiceDate  Price  Customer ID         Country  \n",
       "178     2009-12-01   2.95      16321.0       Australia  \n",
       "179     2009-12-01   1.65      16321.0       Australia  \n",
       "180     2009-12-01   4.25      16321.0       Australia  \n",
       "181     2009-12-01   2.10      16321.0       Australia  \n",
       "182     2009-12-01   2.95      16321.0       Australia  \n",
       "...            ...    ...          ...             ...  \n",
       "944223  2011-11-09   1.79      17511.0  United Kingdom  \n",
       "944237  2011-11-09  10.95      13623.0  United Kingdom  \n",
       "944238  2011-11-09   9.95      13623.0  United Kingdom  \n",
       "944239  2011-11-09   1.69      13623.0  United Kingdom  \n",
       "944295  2011-11-09   0.00          NaN  United Kingdom  \n",
       "\n",
       "[21285 rows x 8 columns]"
      ]
     },
     "execution_count": 6,
     "metadata": {},
     "output_type": "execute_result"
    }
   ],
   "source": [
    "df[df['Quantity']<0]"
   ]
  },
  {
   "cell_type": "code",
   "execution_count": 7,
   "id": "85c34566",
   "metadata": {},
   "outputs": [],
   "source": [
    "df['Quantity']=abs(df['Quantity'])\n",
    "df['Price']=abs(df['Price'])"
   ]
  },
  {
   "cell_type": "code",
   "execution_count": 8,
   "id": "1006eac3",
   "metadata": {},
   "outputs": [
    {
     "data": {
      "text/html": [
       "<div>\n",
       "<style scoped>\n",
       "    .dataframe tbody tr th:only-of-type {\n",
       "        vertical-align: middle;\n",
       "    }\n",
       "\n",
       "    .dataframe tbody tr th {\n",
       "        vertical-align: top;\n",
       "    }\n",
       "\n",
       "    .dataframe thead th {\n",
       "        text-align: right;\n",
       "    }\n",
       "</style>\n",
       "<table border=\"1\" class=\"dataframe\">\n",
       "  <thead>\n",
       "    <tr style=\"text-align: right;\">\n",
       "      <th></th>\n",
       "      <th>Invoice</th>\n",
       "      <th>StockCode</th>\n",
       "      <th>Description</th>\n",
       "      <th>Quantity</th>\n",
       "      <th>InvoiceDate</th>\n",
       "      <th>Price</th>\n",
       "      <th>Customer ID</th>\n",
       "      <th>Country</th>\n",
       "      <th>Total</th>\n",
       "    </tr>\n",
       "  </thead>\n",
       "  <tbody>\n",
       "    <tr>\n",
       "      <th>0</th>\n",
       "      <td>489434</td>\n",
       "      <td>85048</td>\n",
       "      <td>15CM CHRISTMAS GLASS BALL 20 LIGHTS</td>\n",
       "      <td>12</td>\n",
       "      <td>2009-12-01</td>\n",
       "      <td>6.95</td>\n",
       "      <td>13085.0</td>\n",
       "      <td>United Kingdom</td>\n",
       "      <td>83.40</td>\n",
       "    </tr>\n",
       "    <tr>\n",
       "      <th>1</th>\n",
       "      <td>489434</td>\n",
       "      <td>79323P</td>\n",
       "      <td>PINK CHERRY LIGHTS</td>\n",
       "      <td>12</td>\n",
       "      <td>2009-12-01</td>\n",
       "      <td>6.75</td>\n",
       "      <td>13085.0</td>\n",
       "      <td>United Kingdom</td>\n",
       "      <td>81.00</td>\n",
       "    </tr>\n",
       "    <tr>\n",
       "      <th>2</th>\n",
       "      <td>489434</td>\n",
       "      <td>79323W</td>\n",
       "      <td>WHITE CHERRY LIGHTS</td>\n",
       "      <td>12</td>\n",
       "      <td>2009-12-01</td>\n",
       "      <td>6.75</td>\n",
       "      <td>13085.0</td>\n",
       "      <td>United Kingdom</td>\n",
       "      <td>81.00</td>\n",
       "    </tr>\n",
       "    <tr>\n",
       "      <th>3</th>\n",
       "      <td>489434</td>\n",
       "      <td>22041</td>\n",
       "      <td>RECORD FRAME 7\" SINGLE SIZE</td>\n",
       "      <td>48</td>\n",
       "      <td>2009-12-01</td>\n",
       "      <td>2.10</td>\n",
       "      <td>13085.0</td>\n",
       "      <td>United Kingdom</td>\n",
       "      <td>100.80</td>\n",
       "    </tr>\n",
       "    <tr>\n",
       "      <th>4</th>\n",
       "      <td>489434</td>\n",
       "      <td>21232</td>\n",
       "      <td>STRAWBERRY CERAMIC TRINKET BOX</td>\n",
       "      <td>24</td>\n",
       "      <td>2009-12-01</td>\n",
       "      <td>1.25</td>\n",
       "      <td>13085.0</td>\n",
       "      <td>United Kingdom</td>\n",
       "      <td>30.00</td>\n",
       "    </tr>\n",
       "    <tr>\n",
       "      <th>...</th>\n",
       "      <td>...</td>\n",
       "      <td>...</td>\n",
       "      <td>...</td>\n",
       "      <td>...</td>\n",
       "      <td>...</td>\n",
       "      <td>...</td>\n",
       "      <td>...</td>\n",
       "      <td>...</td>\n",
       "      <td>...</td>\n",
       "    </tr>\n",
       "    <tr>\n",
       "      <th>944463</th>\n",
       "      <td>575312</td>\n",
       "      <td>22083</td>\n",
       "      <td>PAPER CHAIN KIT RETROSPOT</td>\n",
       "      <td>6</td>\n",
       "      <td>2011-11-09</td>\n",
       "      <td>2.95</td>\n",
       "      <td>13588.0</td>\n",
       "      <td>United Kingdom</td>\n",
       "      <td>17.70</td>\n",
       "    </tr>\n",
       "    <tr>\n",
       "      <th>944464</th>\n",
       "      <td>575312</td>\n",
       "      <td>23355</td>\n",
       "      <td>HOT WATER BOTTLE KEEP CALM</td>\n",
       "      <td>4</td>\n",
       "      <td>2011-11-09</td>\n",
       "      <td>4.95</td>\n",
       "      <td>13588.0</td>\n",
       "      <td>United Kingdom</td>\n",
       "      <td>19.80</td>\n",
       "    </tr>\n",
       "    <tr>\n",
       "      <th>944465</th>\n",
       "      <td>575312</td>\n",
       "      <td>22110</td>\n",
       "      <td>BIRD HOUSE HOT WATER BOTTLE</td>\n",
       "      <td>6</td>\n",
       "      <td>2011-11-09</td>\n",
       "      <td>2.55</td>\n",
       "      <td>13588.0</td>\n",
       "      <td>United Kingdom</td>\n",
       "      <td>15.30</td>\n",
       "    </tr>\n",
       "    <tr>\n",
       "      <th>944466</th>\n",
       "      <td>575312</td>\n",
       "      <td>22037</td>\n",
       "      <td>ROBOT BIRTHDAY CARD</td>\n",
       "      <td>12</td>\n",
       "      <td>2011-11-09</td>\n",
       "      <td>0.42</td>\n",
       "      <td>13588.0</td>\n",
       "      <td>United Kingdom</td>\n",
       "      <td>5.04</td>\n",
       "    </tr>\n",
       "    <tr>\n",
       "      <th>944467</th>\n",
       "      <td>575312</td>\n",
       "      <td>21790</td>\n",
       "      <td>VINTAGE SNAP CARDS</td>\n",
       "      <td>12</td>\n",
       "      <td>2011-11-09</td>\n",
       "      <td>0.85</td>\n",
       "      <td>13588.0</td>\n",
       "      <td>United Kingdom</td>\n",
       "      <td>10.20</td>\n",
       "    </tr>\n",
       "  </tbody>\n",
       "</table>\n",
       "<p>944468 rows × 9 columns</p>\n",
       "</div>"
      ],
      "text/plain": [
       "       Invoice StockCode                          Description  Quantity  \\\n",
       "0       489434     85048  15CM CHRISTMAS GLASS BALL 20 LIGHTS        12   \n",
       "1       489434    79323P                   PINK CHERRY LIGHTS        12   \n",
       "2       489434    79323W                  WHITE CHERRY LIGHTS        12   \n",
       "3       489434     22041         RECORD FRAME 7\" SINGLE SIZE         48   \n",
       "4       489434     21232       STRAWBERRY CERAMIC TRINKET BOX        24   \n",
       "...        ...       ...                                  ...       ...   \n",
       "944463  575312     22083            PAPER CHAIN KIT RETROSPOT         6   \n",
       "944464  575312     23355           HOT WATER BOTTLE KEEP CALM         4   \n",
       "944465  575312     22110          BIRD HOUSE HOT WATER BOTTLE         6   \n",
       "944466  575312     22037                  ROBOT BIRTHDAY CARD        12   \n",
       "944467  575312     21790                   VINTAGE SNAP CARDS        12   \n",
       "\n",
       "       InvoiceDate  Price  Customer ID         Country   Total  \n",
       "0       2009-12-01   6.95      13085.0  United Kingdom   83.40  \n",
       "1       2009-12-01   6.75      13085.0  United Kingdom   81.00  \n",
       "2       2009-12-01   6.75      13085.0  United Kingdom   81.00  \n",
       "3       2009-12-01   2.10      13085.0  United Kingdom  100.80  \n",
       "4       2009-12-01   1.25      13085.0  United Kingdom   30.00  \n",
       "...            ...    ...          ...             ...     ...  \n",
       "944463  2011-11-09   2.95      13588.0  United Kingdom   17.70  \n",
       "944464  2011-11-09   4.95      13588.0  United Kingdom   19.80  \n",
       "944465  2011-11-09   2.55      13588.0  United Kingdom   15.30  \n",
       "944466  2011-11-09   0.42      13588.0  United Kingdom    5.04  \n",
       "944467  2011-11-09   0.85      13588.0  United Kingdom   10.20  \n",
       "\n",
       "[944468 rows x 9 columns]"
      ]
     },
     "execution_count": 8,
     "metadata": {},
     "output_type": "execute_result"
    }
   ],
   "source": [
    "df['Total']=df['Quantity']*df['Price']\n",
    "df"
   ]
  },
  {
   "cell_type": "code",
   "execution_count": 9,
   "id": "5955a239",
   "metadata": {},
   "outputs": [],
   "source": [
    "df_group=df.groupby(['InvoiceDate', 'Customer ID']).agg({'Total': ['sum']}). reset_index()"
   ]
  },
  {
   "cell_type": "code",
   "execution_count": 10,
   "id": "61c1346d",
   "metadata": {},
   "outputs": [],
   "source": [
    "df_group.columns = df_group.columns.droplevel(1)"
   ]
  },
  {
   "cell_type": "code",
   "execution_count": 11,
   "id": "44ea8d5b",
   "metadata": {},
   "outputs": [],
   "source": [
    "df_group['Customer ID'] = df_group['Customer ID'].astype(str)"
   ]
  },
  {
   "cell_type": "code",
   "execution_count": 12,
   "id": "74b232d7",
   "metadata": {},
   "outputs": [],
   "source": [
    "df_group['id'] = df_group['InvoiceDate'] +' '+df_group['Customer ID']"
   ]
  },
  {
   "cell_type": "code",
   "execution_count": 13,
   "id": "df2a52b1",
   "metadata": {},
   "outputs": [
    {
     "data": {
      "text/html": [
       "<div>\n",
       "<style scoped>\n",
       "    .dataframe tbody tr th:only-of-type {\n",
       "        vertical-align: middle;\n",
       "    }\n",
       "\n",
       "    .dataframe tbody tr th {\n",
       "        vertical-align: top;\n",
       "    }\n",
       "\n",
       "    .dataframe thead th {\n",
       "        text-align: right;\n",
       "    }\n",
       "</style>\n",
       "<table border=\"1\" class=\"dataframe\">\n",
       "  <thead>\n",
       "    <tr style=\"text-align: right;\">\n",
       "      <th></th>\n",
       "      <th>id</th>\n",
       "      <th>Total</th>\n",
       "    </tr>\n",
       "  </thead>\n",
       "  <tbody>\n",
       "    <tr>\n",
       "      <th>0</th>\n",
       "      <td>2009-12-01 12362.0</td>\n",
       "      <td>130.00</td>\n",
       "    </tr>\n",
       "    <tr>\n",
       "      <th>1</th>\n",
       "      <td>2009-12-01 12490.0</td>\n",
       "      <td>603.94</td>\n",
       "    </tr>\n",
       "    <tr>\n",
       "      <th>2</th>\n",
       "      <td>2009-12-01 12533.0</td>\n",
       "      <td>929.92</td>\n",
       "    </tr>\n",
       "    <tr>\n",
       "      <th>3</th>\n",
       "      <td>2009-12-01 12615.0</td>\n",
       "      <td>5.95</td>\n",
       "    </tr>\n",
       "    <tr>\n",
       "      <th>4</th>\n",
       "      <td>2009-12-01 12636.0</td>\n",
       "      <td>141.00</td>\n",
       "    </tr>\n",
       "    <tr>\n",
       "      <th>...</th>\n",
       "      <td>...</td>\n",
       "      <td>...</td>\n",
       "    </tr>\n",
       "    <tr>\n",
       "      <th>35750</th>\n",
       "      <td>2011-11-09 17841.0</td>\n",
       "      <td>446.98</td>\n",
       "    </tr>\n",
       "    <tr>\n",
       "      <th>35751</th>\n",
       "      <td>2011-11-09 17865.0</td>\n",
       "      <td>1130.74</td>\n",
       "    </tr>\n",
       "    <tr>\n",
       "      <th>35752</th>\n",
       "      <td>2011-11-09 18109.0</td>\n",
       "      <td>261.20</td>\n",
       "    </tr>\n",
       "    <tr>\n",
       "      <th>35753</th>\n",
       "      <td>2011-11-09 18144.0</td>\n",
       "      <td>315.00</td>\n",
       "    </tr>\n",
       "    <tr>\n",
       "      <th>35754</th>\n",
       "      <td>2011-11-09 18172.0</td>\n",
       "      <td>355.32</td>\n",
       "    </tr>\n",
       "  </tbody>\n",
       "</table>\n",
       "<p>35755 rows × 2 columns</p>\n",
       "</div>"
      ],
      "text/plain": [
       "                       id    Total\n",
       "0      2009-12-01 12362.0   130.00\n",
       "1      2009-12-01 12490.0   603.94\n",
       "2      2009-12-01 12533.0   929.92\n",
       "3      2009-12-01 12615.0     5.95\n",
       "4      2009-12-01 12636.0   141.00\n",
       "...                   ...      ...\n",
       "35750  2011-11-09 17841.0   446.98\n",
       "35751  2011-11-09 17865.0  1130.74\n",
       "35752  2011-11-09 18109.0   261.20\n",
       "35753  2011-11-09 18144.0   315.00\n",
       "35754  2011-11-09 18172.0   355.32\n",
       "\n",
       "[35755 rows x 2 columns]"
      ]
     },
     "execution_count": 13,
     "metadata": {},
     "output_type": "execute_result"
    }
   ],
   "source": [
    "df_res=df_group[['id', 'Total']]\n",
    "df_res"
   ]
  },
  {
   "cell_type": "code",
   "execution_count": 14,
   "id": "43eb0d77",
   "metadata": {},
   "outputs": [
    {
     "data": {
      "image/png": "[encoded data removed]",
      "text/plain": [
       "<Figure size 432x288 with 1 Axes>"
      ]
     },
     "metadata": {
      "needs_background": "light"
     },
     "output_type": "display_data"
    }
   ],
   "source": [
    "sns.histplot(df_res)\n",
    "plt.title(\"Гистограмма суммы чека\")\n",
    "plt.xlabel(\"Стоимость чека\")\n",
    "plt.grid(linewidth=0.3) \n",
    "plt.xlim(0, 1500)\n",
    "plt.show()"
   ]
  },
  {
   "cell_type": "code",
   "execution_count": 97,
   "id": "c81d362f",
   "metadata": {},
   "outputs": [
    {
     "data": {
      "image/png": "[encoded data removed]",
      "text/plain": [
       "<Figure size 419.125x360 with 1 Axes>"
      ]
     },
     "metadata": {
      "needs_background": "light"
     },
     "output_type": "display_data"
    }
   ],
   "source": [
    "sns.displot(df_res, kind='kde')\n",
    "plt.title(\"График распределения суммы чека\")\n",
    "plt.xlabel(\"Стоимость чека\")\n",
    "plt.grid(linewidth=0.3) \n",
    "plt.xlim(0, 1500)\n",
    "plt.show()"
   ]
  },
  {
   "cell_type": "code",
   "execution_count": 16,
   "id": "da286745",
   "metadata": {},
   "outputs": [],
   "source": [
    "def diy_chisquare(observed, expected):\n",
    "    # рассчитываем статистику\n",
    "    k = len(observed) # число степеней свободы \n",
    "    statistic = (((observed - expected)**2)/expected).sum() # КСП\n",
    "    \n",
    "    # рассчитываем p-value \n",
    "    p_value = 1 - sps.chi2.cdf(statistic, k - 1) # вероятность получить значение выше или равное статистике\n",
    "    \n",
    "    return k - 1, statistic, p_value\n"
   ]
  },
  {
   "cell_type": "code",
   "execution_count": 17,
   "id": "45be1866",
   "metadata": {},
   "outputs": [],
   "source": [
    "# задаем исходные данные\n",
    "np.random.seed(1234)\n",
    "\n",
    "data = np.array([180, 250, 120, 225, 225])\n",
    "expected=np.array( [df_res['Total'].mean()]*df_res.shape[0])\n",
    "\n"
   ]
  },
  {
   "cell_type": "code",
   "execution_count": 38,
   "id": "2b59b637",
   "metadata": {},
   "outputs": [
    {
     "data": {
      "text/plain": [
       "(35754, 176784383.03409848, 0.0)"
      ]
     },
     "metadata": {},
     "output_type": "display_data"
    },
    {
     "data": {
      "text/plain": [
       "Power_divergenceResult(statistic=176784383.03409848, pvalue=0.0)"
      ]
     },
     "execution_count": 38,
     "metadata": {},
     "output_type": "execute_result"
    }
   ],
   "source": [
    "# результат самодельного теста\n",
    "display(diy_chisquare(df_res['Total'], expected))\n",
    "\n",
    "# результат встроенного теста\n",
    "chisquare(df_res['Total'], expected)"
   ]
  },
  {
   "cell_type": "code",
   "execution_count": 119,
   "id": "2792974c",
   "metadata": {},
   "outputs": [],
   "source": [
    "x = np.linspace (df_res['Total'].min(), df_res['Total'].max(), df_res['Total'].shape[0])\n"
   ]
  },
  {
   "cell_type": "code",
   "execution_count": 126,
   "id": "30142c1e",
   "metadata": {},
   "outputs": [],
   "source": [
    "y1 = sps.gamma.pdf (x, a=3 , scale=150)"
   ]
  },
  {
   "cell_type": "code",
   "execution_count": 127,
   "id": "4df490aa",
   "metadata": {},
   "outputs": [
    {
     "data": {
      "text/plain": [
       "(0.0, 300.0)"
      ]
     },
     "execution_count": 127,
     "metadata": {},
     "output_type": "execute_result"
    },
    {
     "data": {
      "image/png": "[encoded data removed]",
      "text/plain": [
       "<Figure size 432x288 with 1 Axes>"
      ]
     },
     "metadata": {
      "needs_background": "light"
     },
     "output_type": "display_data"
    }
   ],
   "source": [
    "plt.plot (x, y1)\n",
    "plt.xlim(0,300)"
   ]
  },
  {
   "cell_type": "code",
   "execution_count": 128,
   "id": "3ed7e2b5",
   "metadata": {},
   "outputs": [
    {
     "data": {
      "text/plain": [
       "(array([130.  , 603.94, 929.92, ..., 261.2 , 315.  , 355.32]),\n",
       " array([ 260.  , 1207.88, 1859.84, ...,  522.4 ,  630.  ,  710.64]),\n",
       " array([0.24806947, 0.11509278, 0.09275177, ..., 0.1750082 , 0.15936381,\n",
       "        0.15004971]),\n",
       " array([0.09230769, 0.01986952, 0.01290434, ..., 0.04594181, 0.03809524,\n",
       "        0.03377237]))"
      ]
     },
     "execution_count": 128,
     "metadata": {},
     "output_type": "execute_result"
    }
   ],
   "source": [
    "\n",
    "mean, var, skew, kurt = sps.chi2.stats(df_res['Total'], moments='mvsk') # skewness - ассиметрия # kurtosis - эксцесс\n",
    "mean, var, skew, kurt"
   ]
  },
  {
   "cell_type": "code",
   "execution_count": 137,
   "id": "c7b3edd6",
   "metadata": {},
   "outputs": [],
   "source": [
    "a=np.array([1,2,3,4,5])\n",
    "b=np.array([1,1,3,3,3])"
   ]
  },
  {
   "cell_type": "code",
   "execution_count": 151,
   "id": "b70da2b0",
   "metadata": {},
   "outputs": [
    {
     "data": {
      "text/plain": [
       "15"
      ]
     },
     "execution_count": 151,
     "metadata": {},
     "output_type": "execute_result"
    }
   ],
   "source": [
    "sum(a)"
   ]
  },
  {
   "cell_type": "code",
   "execution_count": 152,
   "id": "8a84f1ec",
   "metadata": {},
   "outputs": [
    {
     "data": {
      "text/plain": [
       "11"
      ]
     },
     "execution_count": 152,
     "metadata": {},
     "output_type": "execute_result"
    }
   ],
   "source": [
    "sum(b)"
   ]
  },
  {
   "cell_type": "code",
   "execution_count": 153,
   "id": "832320c3",
   "metadata": {},
   "outputs": [],
   "source": [
    "a=a/15*11"
   ]
  },
  {
   "cell_type": "code",
   "execution_count": 154,
   "id": "bbe56bda",
   "metadata": {},
   "outputs": [
    {
     "data": {
      "text/plain": [
       "Power_divergenceResult(statistic=0.6518518518518517, pvalue=0.9571311074582776)"
      ]
     },
     "execution_count": 154,
     "metadata": {},
     "output_type": "execute_result"
    }
   ],
   "source": [
    "chisquare(f_obs=a, f_exp=b,ddof=0)"
   ]
  },
  {
   "cell_type": "code",
   "execution_count": 200,
   "id": "f6127f2e",
   "metadata": {},
   "outputs": [
    {
     "data": {
      "text/plain": [
       "array([130.  , 603.94, 929.92, ..., 261.2 , 315.  , 355.32])"
      ]
     },
     "execution_count": 200,
     "metadata": {},
     "output_type": "execute_result"
    }
   ],
   "source": [
    "a=np.array(df_res['Total'])\n",
    "a"
   ]
  },
  {
   "cell_type": "code",
   "execution_count": 201,
   "id": "e1d128dc",
   "metadata": {},
   "outputs": [
    {
     "data": {
      "text/plain": [
       "array([0.00000000e+00, 2.68322210e-06, 1.04283651e-05, ...,\n",
       "       0.00000000e+00, 0.00000000e+00, 0.00000000e+00])"
      ]
     },
     "execution_count": 201,
     "metadata": {},
     "output_type": "execute_result"
    }
   ],
   "source": [
    "b=np.array(y1)\n",
    "b"
   ]
  },
  {
   "cell_type": "code",
   "execution_count": 202,
   "id": "53e3fdfb",
   "metadata": {},
   "outputs": [
    {
     "data": {
      "text/plain": [
       "16918508.95799996"
      ]
     },
     "execution_count": 202,
     "metadata": {},
     "output_type": "execute_result"
    }
   ],
   "source": [
    "sum(a)"
   ]
  },
  {
   "cell_type": "code",
   "execution_count": 203,
   "id": "13e3d726",
   "metadata": {},
   "outputs": [
    {
     "data": {
      "text/plain": [
       "0.23161656036875117"
      ]
     },
     "execution_count": 203,
     "metadata": {},
     "output_type": "execute_result"
    }
   ],
   "source": [
    "sum(b)"
   ]
  },
  {
   "cell_type": "code",
   "execution_count": 204,
   "id": "da54c336",
   "metadata": {},
   "outputs": [],
   "source": [
    "a=a/sum(a)*sum(b)"
   ]
  },
  {
   "cell_type": "code",
   "execution_count": 205,
   "id": "e88e5903",
   "metadata": {},
   "outputs": [
    {
     "name": "stderr",
     "output_type": "stream",
     "text": [
      "C:\\Users\\12967\\anaconda3\\lib\\site-packages\\scipy\\stats\\_stats_py.py:8064: RuntimeWarning: divide by zero encountered in divide\n",
      "  terms = (f_obs_float - f_exp)**2 / f_exp\n",
      "C:\\Users\\12967\\anaconda3\\lib\\site-packages\\scipy\\stats\\_stats_py.py:8064: RuntimeWarning: overflow encountered in divide\n",
      "  terms = (f_obs_float - f_exp)**2 / f_exp\n",
      "C:\\Users\\12967\\anaconda3\\lib\\site-packages\\numpy\\core\\_methods.py:49: RuntimeWarning: overflow encountered in reduce\n",
      "  return umr_sum(a, axis, dtype, out, keepdims, initial, where)\n"
     ]
    },
    {
     "data": {
      "text/plain": [
       "Power_divergenceResult(statistic=inf, pvalue=0.0)"
      ]
     },
     "execution_count": 205,
     "metadata": {},
     "output_type": "execute_result"
    }
   ],
   "source": [
    "chisquare(f_obs=a, f_exp=b,ddof=0)"
   ]
  },
  {
   "cell_type": "code",
   "execution_count": null,
   "id": "d2a07c8b",
   "metadata": {},
   "outputs": [],
   "source": []
  }
 ],
 "metadata": {
  "kernelspec": {
   "display_name": "Python 3 (ipykernel)",
   "language": "python",
   "name": "python3"
  },
  "language_info": {
   "codemirror_mode": {
    "name": "ipython",
    "version": 3
   },
   "file_extension": ".py",
   "mimetype": "text/x-python",
   "name": "python",
   "nbconvert_exporter": "python",
   "pygments_lexer": "ipython3",
   "version": "3.9.12"
  }
 },
 "nbformat": 4,
 "nbformat_minor": 5
}
