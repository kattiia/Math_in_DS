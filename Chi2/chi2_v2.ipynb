{
 "cells": [
  {
   "cell_type": "code",
   "execution_count": 156,
   "id": "0ea14921",
   "metadata": {},
   "outputs": [],
   "source": [
    "import scipy.stats as sps\n",
    "import pandas as pd\n",
    "import numpy as np\n",
    "import matplotlib.pyplot as plt\n",
    "import seaborn as sns\n",
    "from scipy.stats import chisquare\n",
    "from statistics import variance"
   ]
  },
  {
   "cell_type": "code",
   "execution_count": 27,
   "id": "b5c730ca",
   "metadata": {},
   "outputs": [],
   "source": [
    "df=pd.read_csv('Data.csv')\n",
    "\n"
   ]
  },
  {
   "cell_type": "code",
   "execution_count": 28,
   "id": "44512243",
   "metadata": {},
   "outputs": [],
   "source": [
    "df['InvoiceDate'] = pd.to_datetime(df['InvoiceDate'], format='%Y-%m-%d')"
   ]
  },
  {
   "cell_type": "code",
   "execution_count": 29,
   "id": "9d39be7b",
   "metadata": {},
   "outputs": [],
   "source": [
    "df['InvoiceDate'] = df['InvoiceDate'].dt.strftime('%Y-%m-%d')"
   ]
  },
  {
   "cell_type": "code",
   "execution_count": 30,
   "id": "b26d3523",
   "metadata": {},
   "outputs": [
    {
     "data": {
      "text/html": [
       "<div>\n",
       "<style scoped>\n",
       "    .dataframe tbody tr th:only-of-type {\n",
       "        vertical-align: middle;\n",
       "    }\n",
       "\n",
       "    .dataframe tbody tr th {\n",
       "        vertical-align: top;\n",
       "    }\n",
       "\n",
       "    .dataframe thead th {\n",
       "        text-align: right;\n",
       "    }\n",
       "</style>\n",
       "<table border=\"1\" class=\"dataframe\">\n",
       "  <thead>\n",
       "    <tr style=\"text-align: right;\">\n",
       "      <th></th>\n",
       "      <th>Invoice</th>\n",
       "      <th>StockCode</th>\n",
       "      <th>Description</th>\n",
       "      <th>Quantity</th>\n",
       "      <th>InvoiceDate</th>\n",
       "      <th>Price</th>\n",
       "      <th>Customer ID</th>\n",
       "      <th>Country</th>\n",
       "    </tr>\n",
       "  </thead>\n",
       "  <tbody>\n",
       "    <tr>\n",
       "      <th>0</th>\n",
       "      <td>489434</td>\n",
       "      <td>85048</td>\n",
       "      <td>15CM CHRISTMAS GLASS BALL 20 LIGHTS</td>\n",
       "      <td>12</td>\n",
       "      <td>2009-12-01</td>\n",
       "      <td>6.95</td>\n",
       "      <td>13085.0</td>\n",
       "      <td>United Kingdom</td>\n",
       "    </tr>\n",
       "    <tr>\n",
       "      <th>1</th>\n",
       "      <td>489434</td>\n",
       "      <td>79323P</td>\n",
       "      <td>PINK CHERRY LIGHTS</td>\n",
       "      <td>12</td>\n",
       "      <td>2009-12-01</td>\n",
       "      <td>6.75</td>\n",
       "      <td>13085.0</td>\n",
       "      <td>United Kingdom</td>\n",
       "    </tr>\n",
       "    <tr>\n",
       "      <th>2</th>\n",
       "      <td>489434</td>\n",
       "      <td>79323W</td>\n",
       "      <td>WHITE CHERRY LIGHTS</td>\n",
       "      <td>12</td>\n",
       "      <td>2009-12-01</td>\n",
       "      <td>6.75</td>\n",
       "      <td>13085.0</td>\n",
       "      <td>United Kingdom</td>\n",
       "    </tr>\n",
       "    <tr>\n",
       "      <th>3</th>\n",
       "      <td>489434</td>\n",
       "      <td>22041</td>\n",
       "      <td>RECORD FRAME 7\" SINGLE SIZE</td>\n",
       "      <td>48</td>\n",
       "      <td>2009-12-01</td>\n",
       "      <td>2.10</td>\n",
       "      <td>13085.0</td>\n",
       "      <td>United Kingdom</td>\n",
       "    </tr>\n",
       "    <tr>\n",
       "      <th>4</th>\n",
       "      <td>489434</td>\n",
       "      <td>21232</td>\n",
       "      <td>STRAWBERRY CERAMIC TRINKET BOX</td>\n",
       "      <td>24</td>\n",
       "      <td>2009-12-01</td>\n",
       "      <td>1.25</td>\n",
       "      <td>13085.0</td>\n",
       "      <td>United Kingdom</td>\n",
       "    </tr>\n",
       "    <tr>\n",
       "      <th>...</th>\n",
       "      <td>...</td>\n",
       "      <td>...</td>\n",
       "      <td>...</td>\n",
       "      <td>...</td>\n",
       "      <td>...</td>\n",
       "      <td>...</td>\n",
       "      <td>...</td>\n",
       "      <td>...</td>\n",
       "    </tr>\n",
       "    <tr>\n",
       "      <th>944463</th>\n",
       "      <td>575312</td>\n",
       "      <td>22083</td>\n",
       "      <td>PAPER CHAIN KIT RETROSPOT</td>\n",
       "      <td>6</td>\n",
       "      <td>2011-11-09</td>\n",
       "      <td>2.95</td>\n",
       "      <td>13588.0</td>\n",
       "      <td>United Kingdom</td>\n",
       "    </tr>\n",
       "    <tr>\n",
       "      <th>944464</th>\n",
       "      <td>575312</td>\n",
       "      <td>23355</td>\n",
       "      <td>HOT WATER BOTTLE KEEP CALM</td>\n",
       "      <td>4</td>\n",
       "      <td>2011-11-09</td>\n",
       "      <td>4.95</td>\n",
       "      <td>13588.0</td>\n",
       "      <td>United Kingdom</td>\n",
       "    </tr>\n",
       "    <tr>\n",
       "      <th>944465</th>\n",
       "      <td>575312</td>\n",
       "      <td>22110</td>\n",
       "      <td>BIRD HOUSE HOT WATER BOTTLE</td>\n",
       "      <td>6</td>\n",
       "      <td>2011-11-09</td>\n",
       "      <td>2.55</td>\n",
       "      <td>13588.0</td>\n",
       "      <td>United Kingdom</td>\n",
       "    </tr>\n",
       "    <tr>\n",
       "      <th>944466</th>\n",
       "      <td>575312</td>\n",
       "      <td>22037</td>\n",
       "      <td>ROBOT BIRTHDAY CARD</td>\n",
       "      <td>12</td>\n",
       "      <td>2011-11-09</td>\n",
       "      <td>0.42</td>\n",
       "      <td>13588.0</td>\n",
       "      <td>United Kingdom</td>\n",
       "    </tr>\n",
       "    <tr>\n",
       "      <th>944467</th>\n",
       "      <td>575312</td>\n",
       "      <td>21790</td>\n",
       "      <td>VINTAGE SNAP CARDS</td>\n",
       "      <td>12</td>\n",
       "      <td>2011-11-09</td>\n",
       "      <td>0.85</td>\n",
       "      <td>13588.0</td>\n",
       "      <td>United Kingdom</td>\n",
       "    </tr>\n",
       "  </tbody>\n",
       "</table>\n",
       "<p>944468 rows × 8 columns</p>\n",
       "</div>"
      ],
      "text/plain": [
       "       Invoice StockCode                          Description  Quantity  \\\n",
       "0       489434     85048  15CM CHRISTMAS GLASS BALL 20 LIGHTS        12   \n",
       "1       489434    79323P                   PINK CHERRY LIGHTS        12   \n",
       "2       489434    79323W                  WHITE CHERRY LIGHTS        12   \n",
       "3       489434     22041         RECORD FRAME 7\" SINGLE SIZE         48   \n",
       "4       489434     21232       STRAWBERRY CERAMIC TRINKET BOX        24   \n",
       "...        ...       ...                                  ...       ...   \n",
       "944463  575312     22083            PAPER CHAIN KIT RETROSPOT         6   \n",
       "944464  575312     23355           HOT WATER BOTTLE KEEP CALM         4   \n",
       "944465  575312     22110          BIRD HOUSE HOT WATER BOTTLE         6   \n",
       "944466  575312     22037                  ROBOT BIRTHDAY CARD        12   \n",
       "944467  575312     21790                   VINTAGE SNAP CARDS        12   \n",
       "\n",
       "       InvoiceDate  Price  Customer ID         Country  \n",
       "0       2009-12-01   6.95      13085.0  United Kingdom  \n",
       "1       2009-12-01   6.75      13085.0  United Kingdom  \n",
       "2       2009-12-01   6.75      13085.0  United Kingdom  \n",
       "3       2009-12-01   2.10      13085.0  United Kingdom  \n",
       "4       2009-12-01   1.25      13085.0  United Kingdom  \n",
       "...            ...    ...          ...             ...  \n",
       "944463  2011-11-09   2.95      13588.0  United Kingdom  \n",
       "944464  2011-11-09   4.95      13588.0  United Kingdom  \n",
       "944465  2011-11-09   2.55      13588.0  United Kingdom  \n",
       "944466  2011-11-09   0.42      13588.0  United Kingdom  \n",
       "944467  2011-11-09   0.85      13588.0  United Kingdom  \n",
       "\n",
       "[944468 rows x 8 columns]"
      ]
     },
     "execution_count": 30,
     "metadata": {},
     "output_type": "execute_result"
    }
   ],
   "source": [
    "df"
   ]
  },
  {
   "cell_type": "code",
   "execution_count": 34,
   "id": "3fa413cc",
   "metadata": {},
   "outputs": [],
   "source": [
    "df=df[(df['Quantity']>0) & (df['Price']>0.00)]"
   ]
  },
  {
   "cell_type": "code",
   "execution_count": 36,
   "id": "1006eac3",
   "metadata": {},
   "outputs": [
    {
     "name": "stderr",
     "output_type": "stream",
     "text": [
      "C:\\Users\\12967\\AppData\\Local\\Temp\\ipykernel_15912\\4208469425.py:1: SettingWithCopyWarning: \n",
      "A value is trying to be set on a copy of a slice from a DataFrame.\n",
      "Try using .loc[row_indexer,col_indexer] = value instead\n",
      "\n",
      "See the caveats in the documentation: https://pandas.pydata.org/pandas-docs/stable/user_guide/indexing.html#returning-a-view-versus-a-copy\n",
      "  df['Total']=df['Quantity']*df['Price']\n"
     ]
    },
    {
     "data": {
      "text/html": [
       "<div>\n",
       "<style scoped>\n",
       "    .dataframe tbody tr th:only-of-type {\n",
       "        vertical-align: middle;\n",
       "    }\n",
       "\n",
       "    .dataframe tbody tr th {\n",
       "        vertical-align: top;\n",
       "    }\n",
       "\n",
       "    .dataframe thead th {\n",
       "        text-align: right;\n",
       "    }\n",
       "</style>\n",
       "<table border=\"1\" class=\"dataframe\">\n",
       "  <thead>\n",
       "    <tr style=\"text-align: right;\">\n",
       "      <th></th>\n",
       "      <th>Invoice</th>\n",
       "      <th>StockCode</th>\n",
       "      <th>Description</th>\n",
       "      <th>Quantity</th>\n",
       "      <th>InvoiceDate</th>\n",
       "      <th>Price</th>\n",
       "      <th>Customer ID</th>\n",
       "      <th>Country</th>\n",
       "      <th>Total</th>\n",
       "    </tr>\n",
       "  </thead>\n",
       "  <tbody>\n",
       "    <tr>\n",
       "      <th>0</th>\n",
       "      <td>489434</td>\n",
       "      <td>85048</td>\n",
       "      <td>15CM CHRISTMAS GLASS BALL 20 LIGHTS</td>\n",
       "      <td>12</td>\n",
       "      <td>2009-12-01</td>\n",
       "      <td>6.95</td>\n",
       "      <td>13085.0</td>\n",
       "      <td>United Kingdom</td>\n",
       "      <td>83.40</td>\n",
       "    </tr>\n",
       "    <tr>\n",
       "      <th>1</th>\n",
       "      <td>489434</td>\n",
       "      <td>79323P</td>\n",
       "      <td>PINK CHERRY LIGHTS</td>\n",
       "      <td>12</td>\n",
       "      <td>2009-12-01</td>\n",
       "      <td>6.75</td>\n",
       "      <td>13085.0</td>\n",
       "      <td>United Kingdom</td>\n",
       "      <td>81.00</td>\n",
       "    </tr>\n",
       "    <tr>\n",
       "      <th>2</th>\n",
       "      <td>489434</td>\n",
       "      <td>79323W</td>\n",
       "      <td>WHITE CHERRY LIGHTS</td>\n",
       "      <td>12</td>\n",
       "      <td>2009-12-01</td>\n",
       "      <td>6.75</td>\n",
       "      <td>13085.0</td>\n",
       "      <td>United Kingdom</td>\n",
       "      <td>81.00</td>\n",
       "    </tr>\n",
       "    <tr>\n",
       "      <th>3</th>\n",
       "      <td>489434</td>\n",
       "      <td>22041</td>\n",
       "      <td>RECORD FRAME 7\" SINGLE SIZE</td>\n",
       "      <td>48</td>\n",
       "      <td>2009-12-01</td>\n",
       "      <td>2.10</td>\n",
       "      <td>13085.0</td>\n",
       "      <td>United Kingdom</td>\n",
       "      <td>100.80</td>\n",
       "    </tr>\n",
       "    <tr>\n",
       "      <th>4</th>\n",
       "      <td>489434</td>\n",
       "      <td>21232</td>\n",
       "      <td>STRAWBERRY CERAMIC TRINKET BOX</td>\n",
       "      <td>24</td>\n",
       "      <td>2009-12-01</td>\n",
       "      <td>1.25</td>\n",
       "      <td>13085.0</td>\n",
       "      <td>United Kingdom</td>\n",
       "      <td>30.00</td>\n",
       "    </tr>\n",
       "    <tr>\n",
       "      <th>...</th>\n",
       "      <td>...</td>\n",
       "      <td>...</td>\n",
       "      <td>...</td>\n",
       "      <td>...</td>\n",
       "      <td>...</td>\n",
       "      <td>...</td>\n",
       "      <td>...</td>\n",
       "      <td>...</td>\n",
       "      <td>...</td>\n",
       "    </tr>\n",
       "    <tr>\n",
       "      <th>944463</th>\n",
       "      <td>575312</td>\n",
       "      <td>22083</td>\n",
       "      <td>PAPER CHAIN KIT RETROSPOT</td>\n",
       "      <td>6</td>\n",
       "      <td>2011-11-09</td>\n",
       "      <td>2.95</td>\n",
       "      <td>13588.0</td>\n",
       "      <td>United Kingdom</td>\n",
       "      <td>17.70</td>\n",
       "    </tr>\n",
       "    <tr>\n",
       "      <th>944464</th>\n",
       "      <td>575312</td>\n",
       "      <td>23355</td>\n",
       "      <td>HOT WATER BOTTLE KEEP CALM</td>\n",
       "      <td>4</td>\n",
       "      <td>2011-11-09</td>\n",
       "      <td>4.95</td>\n",
       "      <td>13588.0</td>\n",
       "      <td>United Kingdom</td>\n",
       "      <td>19.80</td>\n",
       "    </tr>\n",
       "    <tr>\n",
       "      <th>944465</th>\n",
       "      <td>575312</td>\n",
       "      <td>22110</td>\n",
       "      <td>BIRD HOUSE HOT WATER BOTTLE</td>\n",
       "      <td>6</td>\n",
       "      <td>2011-11-09</td>\n",
       "      <td>2.55</td>\n",
       "      <td>13588.0</td>\n",
       "      <td>United Kingdom</td>\n",
       "      <td>15.30</td>\n",
       "    </tr>\n",
       "    <tr>\n",
       "      <th>944466</th>\n",
       "      <td>575312</td>\n",
       "      <td>22037</td>\n",
       "      <td>ROBOT BIRTHDAY CARD</td>\n",
       "      <td>12</td>\n",
       "      <td>2011-11-09</td>\n",
       "      <td>0.42</td>\n",
       "      <td>13588.0</td>\n",
       "      <td>United Kingdom</td>\n",
       "      <td>5.04</td>\n",
       "    </tr>\n",
       "    <tr>\n",
       "      <th>944467</th>\n",
       "      <td>575312</td>\n",
       "      <td>21790</td>\n",
       "      <td>VINTAGE SNAP CARDS</td>\n",
       "      <td>12</td>\n",
       "      <td>2011-11-09</td>\n",
       "      <td>0.85</td>\n",
       "      <td>13588.0</td>\n",
       "      <td>United Kingdom</td>\n",
       "      <td>10.20</td>\n",
       "    </tr>\n",
       "  </tbody>\n",
       "</table>\n",
       "<p>920674 rows × 9 columns</p>\n",
       "</div>"
      ],
      "text/plain": [
       "       Invoice StockCode                          Description  Quantity  \\\n",
       "0       489434     85048  15CM CHRISTMAS GLASS BALL 20 LIGHTS        12   \n",
       "1       489434    79323P                   PINK CHERRY LIGHTS        12   \n",
       "2       489434    79323W                  WHITE CHERRY LIGHTS        12   \n",
       "3       489434     22041         RECORD FRAME 7\" SINGLE SIZE         48   \n",
       "4       489434     21232       STRAWBERRY CERAMIC TRINKET BOX        24   \n",
       "...        ...       ...                                  ...       ...   \n",
       "944463  575312     22083            PAPER CHAIN KIT RETROSPOT         6   \n",
       "944464  575312     23355           HOT WATER BOTTLE KEEP CALM         4   \n",
       "944465  575312     22110          BIRD HOUSE HOT WATER BOTTLE         6   \n",
       "944466  575312     22037                  ROBOT BIRTHDAY CARD        12   \n",
       "944467  575312     21790                   VINTAGE SNAP CARDS        12   \n",
       "\n",
       "       InvoiceDate  Price  Customer ID         Country   Total  \n",
       "0       2009-12-01   6.95      13085.0  United Kingdom   83.40  \n",
       "1       2009-12-01   6.75      13085.0  United Kingdom   81.00  \n",
       "2       2009-12-01   6.75      13085.0  United Kingdom   81.00  \n",
       "3       2009-12-01   2.10      13085.0  United Kingdom  100.80  \n",
       "4       2009-12-01   1.25      13085.0  United Kingdom   30.00  \n",
       "...            ...    ...          ...             ...     ...  \n",
       "944463  2011-11-09   2.95      13588.0  United Kingdom   17.70  \n",
       "944464  2011-11-09   4.95      13588.0  United Kingdom   19.80  \n",
       "944465  2011-11-09   2.55      13588.0  United Kingdom   15.30  \n",
       "944466  2011-11-09   0.42      13588.0  United Kingdom    5.04  \n",
       "944467  2011-11-09   0.85      13588.0  United Kingdom   10.20  \n",
       "\n",
       "[920674 rows x 9 columns]"
      ]
     },
     "execution_count": 36,
     "metadata": {},
     "output_type": "execute_result"
    }
   ],
   "source": [
    "df['Total']=df['Quantity']*df['Price']\n",
    "df"
   ]
  },
  {
   "cell_type": "code",
   "execution_count": 37,
   "id": "5955a239",
   "metadata": {},
   "outputs": [],
   "source": [
    "df_group=df.groupby(['InvoiceDate', 'Customer ID']).agg({'Total': ['sum']}). reset_index()"
   ]
  },
  {
   "cell_type": "code",
   "execution_count": 38,
   "id": "61c1346d",
   "metadata": {},
   "outputs": [],
   "source": [
    "df_group.columns = df_group.columns.droplevel(1)"
   ]
  },
  {
   "cell_type": "code",
   "execution_count": 39,
   "id": "44ea8d5b",
   "metadata": {},
   "outputs": [],
   "source": [
    "df_group['Customer ID'] = df_group['Customer ID'].astype(str)"
   ]
  },
  {
   "cell_type": "code",
   "execution_count": 40,
   "id": "74b232d7",
   "metadata": {},
   "outputs": [],
   "source": [
    "df_group['id'] = df_group['InvoiceDate'] +' '+df_group['Customer ID']"
   ]
  },
  {
   "cell_type": "code",
   "execution_count": 41,
   "id": "df2a52b1",
   "metadata": {},
   "outputs": [
    {
     "data": {
      "text/html": [
       "<div>\n",
       "<style scoped>\n",
       "    .dataframe tbody tr th:only-of-type {\n",
       "        vertical-align: middle;\n",
       "    }\n",
       "\n",
       "    .dataframe tbody tr th {\n",
       "        vertical-align: top;\n",
       "    }\n",
       "\n",
       "    .dataframe thead th {\n",
       "        text-align: right;\n",
       "    }\n",
       "</style>\n",
       "<table border=\"1\" class=\"dataframe\">\n",
       "  <thead>\n",
       "    <tr style=\"text-align: right;\">\n",
       "      <th></th>\n",
       "      <th>id</th>\n",
       "      <th>Total</th>\n",
       "    </tr>\n",
       "  </thead>\n",
       "  <tbody>\n",
       "    <tr>\n",
       "      <th>0</th>\n",
       "      <td>2009-12-01 12362.0</td>\n",
       "      <td>130.00</td>\n",
       "    </tr>\n",
       "    <tr>\n",
       "      <th>1</th>\n",
       "      <td>2009-12-01 12490.0</td>\n",
       "      <td>603.94</td>\n",
       "    </tr>\n",
       "    <tr>\n",
       "      <th>2</th>\n",
       "      <td>2009-12-01 12533.0</td>\n",
       "      <td>929.92</td>\n",
       "    </tr>\n",
       "    <tr>\n",
       "      <th>3</th>\n",
       "      <td>2009-12-01 12636.0</td>\n",
       "      <td>141.00</td>\n",
       "    </tr>\n",
       "    <tr>\n",
       "      <th>4</th>\n",
       "      <td>2009-12-01 12682.0</td>\n",
       "      <td>426.30</td>\n",
       "    </tr>\n",
       "    <tr>\n",
       "      <th>...</th>\n",
       "      <td>...</td>\n",
       "      <td>...</td>\n",
       "    </tr>\n",
       "    <tr>\n",
       "      <th>30631</th>\n",
       "      <td>2011-11-09 17841.0</td>\n",
       "      <td>446.98</td>\n",
       "    </tr>\n",
       "    <tr>\n",
       "      <th>30632</th>\n",
       "      <td>2011-11-09 17865.0</td>\n",
       "      <td>1130.74</td>\n",
       "    </tr>\n",
       "    <tr>\n",
       "      <th>30633</th>\n",
       "      <td>2011-11-09 18109.0</td>\n",
       "      <td>261.20</td>\n",
       "    </tr>\n",
       "    <tr>\n",
       "      <th>30634</th>\n",
       "      <td>2011-11-09 18144.0</td>\n",
       "      <td>315.00</td>\n",
       "    </tr>\n",
       "    <tr>\n",
       "      <th>30635</th>\n",
       "      <td>2011-11-09 18172.0</td>\n",
       "      <td>355.32</td>\n",
       "    </tr>\n",
       "  </tbody>\n",
       "</table>\n",
       "<p>30636 rows × 2 columns</p>\n",
       "</div>"
      ],
      "text/plain": [
       "                       id    Total\n",
       "0      2009-12-01 12362.0   130.00\n",
       "1      2009-12-01 12490.0   603.94\n",
       "2      2009-12-01 12533.0   929.92\n",
       "3      2009-12-01 12636.0   141.00\n",
       "4      2009-12-01 12682.0   426.30\n",
       "...                   ...      ...\n",
       "30631  2011-11-09 17841.0   446.98\n",
       "30632  2011-11-09 17865.0  1130.74\n",
       "30633  2011-11-09 18109.0   261.20\n",
       "30634  2011-11-09 18144.0   315.00\n",
       "30635  2011-11-09 18172.0   355.32\n",
       "\n",
       "[30636 rows x 2 columns]"
      ]
     },
     "execution_count": 41,
     "metadata": {},
     "output_type": "execute_result"
    }
   ],
   "source": [
    "df_res=df_group[['id', 'Total']]\n",
    "df_res"
   ]
  },
  {
   "cell_type": "code",
   "execution_count": 42,
   "id": "43eb0d77",
   "metadata": {},
   "outputs": [
    {
     "data": {
      "image/png": "[encoded data removed]",
      "text/plain": [
       "<Figure size 432x288 with 1 Axes>"
      ]
     },
     "metadata": {
      "needs_background": "light"
     },
     "output_type": "display_data"
    }
   ],
   "source": [
    "sns.histplot(df_res)\n",
    "plt.title(\"Гистограмма суммы чека\")\n",
    "plt.xlabel(\"Стоимость чека\")\n",
    "plt.grid(linewidth=0.3) \n",
    "plt.xlim(0, 1500)\n",
    "plt.show()"
   ]
  },
  {
   "cell_type": "code",
   "execution_count": 43,
   "id": "c81d362f",
   "metadata": {},
   "outputs": [
    {
     "data": {
      "image/png": "[encoded data removed]",
      "text/plain": [
       "<Figure size 419.125x360 with 1 Axes>"
      ]
     },
     "metadata": {
      "needs_background": "light"
     },
     "output_type": "display_data"
    }
   ],
   "source": [
    "sns.displot(df_res, kind='kde')\n",
    "plt.title(\"График распределения суммы чека\")\n",
    "plt.xlabel(\"Стоимость чека\")\n",
    "plt.grid(linewidth=0.3) \n",
    "plt.xlim(0, 1500)\n",
    "plt.show()"
   ]
  },
  {
   "cell_type": "code",
   "execution_count": 45,
   "id": "ecd15c24",
   "metadata": {},
   "outputs": [],
   "source": [
    "customers, counts=np.unique(df_res['Total'], return_counts=True)"
   ]
  },
  {
   "cell_type": "code",
   "execution_count": 63,
   "id": "e3a4753a",
   "metadata": {},
   "outputs": [
    {
     "data": {
      "text/plain": [
       "23846"
      ]
     },
     "execution_count": 63,
     "metadata": {},
     "output_type": "execute_result"
    }
   ],
   "source": [
    "len(np.unique(customers))"
   ]
  },
  {
   "cell_type": "code",
   "execution_count": 57,
   "id": "8842da0f",
   "metadata": {},
   "outputs": [],
   "source": [
    "freq=counts.astype(float)/len(customers)"
   ]
  },
  {
   "cell_type": "code",
   "execution_count": 127,
   "id": "2792974c",
   "metadata": {},
   "outputs": [],
   "source": [
    "x = np.linspace (df_res['Total'].min()+0.01, df_res['Total'].max(), df_res['Total'].shape[0])\n"
   ]
  },
  {
   "cell_type": "code",
   "execution_count": 128,
   "id": "30142c1e",
   "metadata": {},
   "outputs": [],
   "source": [
    "y1 = sps.gamma.pdf (x, a=2.5 , scale=200)"
   ]
  },
  {
   "cell_type": "code",
   "execution_count": 129,
   "id": "4df490aa",
   "metadata": {},
   "outputs": [
    {
     "data": {
      "text/plain": [
       "(0.0, 300.0)"
      ]
     },
     "execution_count": 129,
     "metadata": {},
     "output_type": "execute_result"
    },
    {
     "data": {
      "image/png": "[encoded data removed]",
      "text/plain": [
       "<Figure size 432x288 with 1 Axes>"
      ]
     },
     "metadata": {
      "needs_background": "light"
     },
     "output_type": "display_data"
    }
   ],
   "source": [
    "plt.plot (x, y1)\n",
    "plt.xlim(0,300)"
   ]
  },
  {
   "cell_type": "code",
   "execution_count": 130,
   "id": "0f4bdf23",
   "metadata": {},
   "outputs": [
    {
     "data": {
      "image/png": "[encoded data removed]",
      "text/plain": [
       "<Figure size 419.125x360 with 1 Axes>"
      ]
     },
     "metadata": {
      "needs_background": "light"
     },
     "output_type": "display_data"
    }
   ],
   "source": [
    "sns.displot(df_res, kind='kde')\n",
    "plt.plot (x, y1, color='red')\n",
    "plt.xlim(0,300)\n",
    "plt.title(\"График распределения суммы чека\")\n",
    "plt.xlabel(\"Стоимость чека\")\n",
    "plt.grid(linewidth=0.3) \n",
    "plt.xlim(0, 1500)\n",
    "plt.show()"
   ]
  },
  {
   "cell_type": "code",
   "execution_count": 131,
   "id": "556a317c",
   "metadata": {},
   "outputs": [],
   "source": [
    "y2 = sps.chi2.pdf (x,6 ,loc=-150, scale=100)"
   ]
  },
  {
   "cell_type": "code",
   "execution_count": 132,
   "id": "ccea70b2",
   "metadata": {},
   "outputs": [
    {
     "data": {
      "text/plain": [
       "(0.0, 300.0)"
      ]
     },
     "execution_count": 132,
     "metadata": {},
     "output_type": "execute_result"
    },
    {
     "data": {
      "image/png": "[encoded data removed]",
      "text/plain": [
       "<Figure size 432x288 with 1 Axes>"
      ]
     },
     "metadata": {
      "needs_background": "light"
     },
     "output_type": "display_data"
    }
   ],
   "source": [
    "plt.plot (x, y2)\n",
    "plt.xlim(0,300)"
   ]
  },
  {
   "cell_type": "code",
   "execution_count": 133,
   "id": "cc9d17a8",
   "metadata": {},
   "outputs": [
    {
     "data": {
      "image/png": "[encoded data removed]",
      "text/plain": [
       "<Figure size 419.125x360 with 1 Axes>"
      ]
     },
     "metadata": {
      "needs_background": "light"
     },
     "output_type": "display_data"
    }
   ],
   "source": [
    "sns.displot(df_res, kind='kde')\n",
    "plt.plot (x, y2, color='red')\n",
    "plt.xlim(0,300)\n",
    "plt.title(\"График распределения суммы чека\")\n",
    "plt.xlabel(\"Стоимость чека\")\n",
    "plt.grid(linewidth=0.3) \n",
    "plt.xlim(0, 1500)\n",
    "plt.show()"
   ]
  },
  {
   "cell_type": "code",
   "execution_count": 134,
   "id": "f6127f2e",
   "metadata": {},
   "outputs": [
    {
     "data": {
      "text/plain": [
       "array([130.  , 603.94, 929.92, ..., 261.2 , 315.  , 355.32])"
      ]
     },
     "execution_count": 134,
     "metadata": {},
     "output_type": "execute_result"
    }
   ],
   "source": [
    "a=np.array(df_res['Total'])\n",
    "a"
   ]
  },
  {
   "cell_type": "code",
   "execution_count": 135,
   "id": "399cae8a",
   "metadata": {},
   "outputs": [],
   "source": [
    "def pdf(k: int, rnd_list: list):\n",
    "    \"\"\"\n",
    "    Получает кривую плотности распределения вероятности\n",
    "    :param k: количечиво интервалов разбиения гистограммы\n",
    "    :param rnd_list: случайный процесс\n",
    "    :return: pandas.DataFrame\n",
    "    \"\"\"\n",
    "    pdf_x = []  # Координаты по оси абсцисс\n",
    "    pdf_y = []  # Координаты по оси ординат\n",
    "    n = len(rnd_list)  # количество элементов в рассматриваемой выборке\n",
    "    h = (max(rnd_list) - min(rnd_list)) / k  # ширина одного интервала\n",
    "    a = min(rnd_list)  # минимальное значение в рассматриваемой выборке\n",
    "    for i in range(0, k):  # проход по интервалам\n",
    "        count = 0\n",
    "        for j in rnd_list:  # подсчет количества вхождений значений из выборки в данный интервал\n",
    "            if (a + i * h) < j < (a + (i * h) + h):\n",
    "                count = count + 1\n",
    "        pdf_x.append(a + i * h + h / 2)  # координата по оси абсцисс полученной кривой плотности распределения\n",
    "        # вероятности\n",
    "        pdf_y.append(count / (n * h))  # координата по оси ординат полученной кривой плотности распределения\n",
    "        # вероятности\n",
    "    d = {'x': pdf_x, 'y': pdf_y}\n",
    "    return pd.DataFrame(d)"
   ]
  },
  {
   "cell_type": "code",
   "execution_count": 136,
   "id": "6342626a",
   "metadata": {},
   "outputs": [
    {
     "data": {
      "text/plain": [
       "0        0.000466\n",
       "1        0.000687\n",
       "2        0.000687\n",
       "3        0.000959\n",
       "4        0.000453\n",
       "           ...   \n",
       "30631    0.000000\n",
       "30632    0.000000\n",
       "30633    0.000000\n",
       "30634    0.000000\n",
       "30635    0.000013\n",
       "Name: y, Length: 30636, dtype: float64"
      ]
     },
     "execution_count": 136,
     "metadata": {},
     "output_type": "execute_result"
    }
   ],
   "source": [
    "r_pdf = pdf(df_res['Total'].shape[0], df_res['Total'])\n",
    "r_pdf['y']"
   ]
  },
  {
   "cell_type": "code",
   "execution_count": 141,
   "id": "51428900",
   "metadata": {},
   "outputs": [],
   "source": [
    "r_pdf = pdf(20, df_res['Total'])\n",
    "r_pdf=r_pdf[r_pdf['y']>0.00]"
   ]
  },
  {
   "cell_type": "code",
   "execution_count": 142,
   "id": "51abca11",
   "metadata": {},
   "outputs": [
    {
     "data": {
      "text/plain": [
       "12"
      ]
     },
     "execution_count": 142,
     "metadata": {},
     "output_type": "execute_result"
    }
   ],
   "source": [
    "len(r_pdf)"
   ]
  },
  {
   "cell_type": "code",
   "execution_count": 143,
   "id": "72afd5dd",
   "metadata": {},
   "outputs": [
    {
     "data": {
      "image/png": "[encoded data removed]",
      "text/plain": [
       "<Figure size 432x288 with 1 Axes>"
      ]
     },
     "metadata": {
      "needs_background": "light"
     },
     "output_type": "display_data"
    }
   ],
   "source": [
    "sns.histplot(customers, stat='density', label='data')\n",
    "plt.plot(x, y1, color='red', label='distrib')\n",
    "plt.legend()\n",
    "plt.title('Гистограмма и предполагаемое распределение')\n",
    "plt.xlim(0,1500)\n",
    "plt.show()"
   ]
  },
  {
   "cell_type": "code",
   "execution_count": 144,
   "id": "265e94c8",
   "metadata": {},
   "outputs": [],
   "source": [
    "counts_points, points = np.histogram(customers, bins=len(r_pdf))"
   ]
  },
  {
   "cell_type": "code",
   "execution_count": 145,
   "id": "ebac01d5",
   "metadata": {},
   "outputs": [],
   "source": [
    "obs_freq = counts_points.astype(float)/sum(counts_points)"
   ]
  },
  {
   "cell_type": "code",
   "execution_count": 146,
   "id": "84b5a01a",
   "metadata": {},
   "outputs": [],
   "source": [
    "gamma_freq=r_pdf['y']"
   ]
  },
  {
   "cell_type": "code",
   "execution_count": 147,
   "id": "cd0ea539",
   "metadata": {},
   "outputs": [],
   "source": [
    "midpoints = [(points[i-1]+points[i])/2 for i in range (1, len(points))]"
   ]
  },
  {
   "cell_type": "code",
   "execution_count": 148,
   "id": "13eb9c29",
   "metadata": {},
   "outputs": [
    {
     "data": {
      "text/plain": [
       "Power_divergenceResult(statistic=0.002051394071748059, pvalue=1.0)"
      ]
     },
     "execution_count": 148,
     "metadata": {},
     "output_type": "execute_result"
    }
   ],
   "source": [
    "chisquare(obs_freq, gamma_freq/sum(gamma_freq)*sum(obs_freq))"
   ]
  },
  {
   "cell_type": "code",
   "execution_count": null,
   "id": "c3af6324",
   "metadata": {},
   "outputs": [],
   "source": []
  },
  {
   "cell_type": "code",
   "execution_count": 159,
   "id": "fc234129",
   "metadata": {},
   "outputs": [],
   "source": [
    "beta = 0.8"
   ]
  },
  {
   "cell_type": "code",
   "execution_count": 168,
   "id": "25aa7f13",
   "metadata": {},
   "outputs": [],
   "source": [
    "a=np.array(df_res['Total'])\n",
    "n=len(a)"
   ]
  },
  {
   "cell_type": "code",
   "execution_count": 166,
   "id": "47d6ef7f",
   "metadata": {},
   "outputs": [
    {
     "data": {
      "text/plain": [
       "523.198883274579"
      ]
     },
     "execution_count": 166,
     "metadata": {},
     "output_type": "execute_result"
    }
   ],
   "source": [
    "m = np.mean(a)\n",
    "m"
   ]
  },
  {
   "cell_type": "code",
   "execution_count": 167,
   "id": "6d67e5a2",
   "metadata": {},
   "outputs": [
    {
     "data": {
      "text/plain": [
       "1681973.164982893"
      ]
     },
     "execution_count": 167,
     "metadata": {},
     "output_type": "execute_result"
    }
   ],
   "source": [
    "d=np.var(a)\n",
    "d"
   ]
  },
  {
   "cell_type": "code",
   "execution_count": 169,
   "id": "6f8b0a44",
   "metadata": {},
   "outputs": [
    {
     "data": {
      "text/plain": [
       "7.409578455279072"
      ]
     },
     "execution_count": 169,
     "metadata": {},
     "output_type": "execute_result"
    }
   ],
   "source": [
    "sco=np.sqrt(d/n)\n",
    "sco"
   ]
  },
  {
   "cell_type": "code",
   "execution_count": 171,
   "id": "b3c87747",
   "metadata": {},
   "outputs": [
    {
     "data": {
      "text/plain": [
       "1.2815515655446004"
      ]
     },
     "execution_count": 171,
     "metadata": {},
     "output_type": "execute_result"
    }
   ],
   "source": [
    "tb = sps.norm.ppf((1.0+beta)/2.0)\n",
    "tb"
   ]
  },
  {
   "cell_type": "code",
   "execution_count": 172,
   "id": "2e8806ea",
   "metadata": {},
   "outputs": [
    {
     "data": {
      "text/plain": [
       "9.495756869388437"
      ]
     },
     "execution_count": 172,
     "metadata": {},
     "output_type": "execute_result"
    }
   ],
   "source": [
    "eps = tb*sco\n",
    "m1 = m - eps\n",
    "m2 = m + eps\n",
    "eps"
   ]
  },
  {
   "cell_type": "code",
   "execution_count": 173,
   "id": "b819c337",
   "metadata": {},
   "outputs": [
    {
     "data": {
      "text/plain": [
       "'Доверительный интервал Ib = (513.7031; 532.6946)'"
      ]
     },
     "execution_count": 173,
     "metadata": {},
     "output_type": "execute_result"
    }
   ],
   "source": [
    "f\"Доверительный интервал Ib = ({m1:.4f}; {m2:.4f})\""
   ]
  },
  {
   "cell_type": "code",
   "execution_count": null,
   "id": "249a571a",
   "metadata": {},
   "outputs": [],
   "source": []
  }
 ],
 "metadata": {
  "kernelspec": {
   "display_name": "Python 3 (ipykernel)",
   "language": "python",
   "name": "python3"
  },
  "language_info": {
   "codemirror_mode": {
    "name": "ipython",
    "version": 3
   },
   "file_extension": ".py",
   "mimetype": "text/x-python",
   "name": "python",
   "nbconvert_exporter": "python",
   "pygments_lexer": "ipython3",
   "version": "3.9.12"
  }
 },
 "nbformat": 4,
 "nbformat_minor": 5
}
