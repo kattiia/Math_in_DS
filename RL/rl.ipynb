{
 "cells": [
  {
   "cell_type": "code",
   "execution_count": 1,
   "id": "53b0914e",
   "metadata": {},
   "outputs": [],
   "source": [
    "import numpy as np"
   ]
  },
  {
   "cell_type": "code",
   "execution_count": 19,
   "id": "e9ed947c",
   "metadata": {},
   "outputs": [],
   "source": [
    "import numpy as np\n",
    "\n",
    "\n",
    "def create_coefficient_matrix(rows, cols, gamma, penalty):\n",
    "    coefficient = np.zeros((rows * cols, rows * cols))\n",
    "    free = np.zeros(rows * cols)\n",
    "\n",
    "    for i in range(rows):\n",
    "        for j in range(cols):\n",
    "            index = i * cols + j  \n",
    "            coefficient[index, index] = 1 \n",
    "\n",
    "            neighbors = [(i-1, j), (i+1, j), (i, j-1), (i, j+1)] \n",
    "         \n",
    "            if (i, j) == (0, 1):  # Клетка A\n",
    "                next_index = 4 * cols + 1  # индекс A`\n",
    "                coefficient[index, next_index] = (-1) * gamma\n",
    "                free[index] = 10\n",
    "            elif (i, j) == (0, 3):  # Клетка B\n",
    "                next_index = 2 * cols + 3  # индекс B`\n",
    "                coefficient[index, next_index] = (-1) * gamma\n",
    "                free[index] = 5\n",
    "            else:\n",
    "                for neighbor_i, neighbor_j in neighbors:\n",
    "                    if 0 <= neighbor_i < rows and 0 <= neighbor_j < cols:\n",
    "                        neighbor_index = neighbor_i * cols + neighbor_j\n",
    "                        coefficient[index, neighbor_index] -= gamma * 0.25 \n",
    "                    else:\n",
    "                        # Штраф за выход за пределы поля\n",
    "                        coefficient[index, index] -= gamma * 0.25\n",
    "                        free[index] += penalty * 0.25 \n",
    "\n",
    "    return coefficient, free\n",
    "\n"
   ]
  },
  {
   "cell_type": "code",
   "execution_count": 22,
   "id": "ede27533",
   "metadata": {},
   "outputs": [],
   "source": [
    "def solve_equation(rows, cols, gamma, penalty):\n",
    "    coefficient, free = create_coefficient_matrix(rows, cols, gamma, penalty)\n",
    "    V = np.linalg.solve(coefficient, free)\n",
    "\n",
    "    V_matrix = V.reshape((rows, cols))\n",
    "    print(\"Функции ценности состояния:\")\n",
    "    print(V_matrix)\n",
    "\n",
    "\n"
   ]
  },
  {
   "cell_type": "code",
   "execution_count": 23,
   "id": "04f5edf6",
   "metadata": {},
   "outputs": [
    {
     "name": "stdout",
     "output_type": "stream",
     "text": [
      "Функции ценности состояния:\n",
      "[[ 3.30899634  8.78929186  4.42761918  5.32236759  1.49217876]\n",
      " [ 1.52158807  2.99231786  2.25013995  1.9075717   0.54740271]\n",
      " [ 0.05082249  0.73817059  0.67311326  0.35818621 -0.40314114]\n",
      " [-0.9735923  -0.43549543 -0.35488227 -0.58560509 -1.18307508]\n",
      " [-1.85770055 -1.34523126 -1.22926726 -1.42291815 -1.97517905]]\n"
     ]
    }
   ],
   "source": [
    "solve_equation(rows=5, cols=5, gamma=0.9, penalty=-1)"
   ]
  },
  {
   "cell_type": "code",
   "execution_count": null,
   "id": "c5f278ac",
   "metadata": {},
   "outputs": [],
   "source": []
  }
 ],
 "metadata": {
  "kernelspec": {
   "display_name": "Python 3 (ipykernel)",
   "language": "python",
   "name": "python3"
  },
  "language_info": {
   "codemirror_mode": {
    "name": "ipython",
    "version": 3
   },
   "file_extension": ".py",
   "mimetype": "text/x-python",
   "name": "python",
   "nbconvert_exporter": "python",
   "pygments_lexer": "ipython3",
   "version": "3.9.12"
  }
 },
 "nbformat": 4,
 "nbformat_minor": 5
}
