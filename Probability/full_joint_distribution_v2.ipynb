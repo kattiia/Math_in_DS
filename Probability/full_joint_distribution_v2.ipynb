{
 "cells": [
  {
   "cell_type": "code",
   "execution_count": 1,
   "id": "401580f9",
   "metadata": {},
   "outputs": [],
   "source": [
    "import pandas as pd\n",
    "import math\n",
    "import numpy as np\n",
    "import pandas as pd\n",
    "from sklearn.model_selection import train_test_split\n",
    "from sklearn.ensemble import RandomForestClassifier \n",
    "from sklearn.metrics import accuracy_score\n",
    "from sklearn.preprocessing import LabelEncoder"
   ]
  },
  {
   "cell_type": "markdown",
   "id": "d1dcd95c",
   "metadata": {},
   "source": [
    "### Загрузка и обработка данных"
   ]
  },
  {
   "cell_type": "code",
   "execution_count": 2,
   "id": "68c9f7bd",
   "metadata": {},
   "outputs": [],
   "source": [
    "df=pd.read_csv('Data.csv')"
   ]
  },
  {
   "cell_type": "code",
   "execution_count": 3,
   "id": "fec17787",
   "metadata": {},
   "outputs": [],
   "source": [
    "df['InvoiceDate'] = pd.to_datetime(df['InvoiceDate'], format='%Y-%m-%d')\n",
    "df['InvoiceDate'] = df['InvoiceDate'].dt.strftime('%Y-%m-%d')\n"
   ]
  },
  {
   "cell_type": "code",
   "execution_count": 80,
   "id": "de7b8c2d",
   "metadata": {},
   "outputs": [],
   "source": [
    "df=df[df['Quantity']>0]\n",
    "df['Total']=df['Quantity']*df['Price']"
   ]
  },
  {
   "cell_type": "code",
   "execution_count": 81,
   "id": "081d5252",
   "metadata": {},
   "outputs": [],
   "source": [
    "df2=df[df.InvoiceDate.str.contains(r'2010-12-\\d\\d', regex= True, na=False)]"
   ]
  },
  {
   "cell_type": "code",
   "execution_count": 82,
   "id": "aebc6d69",
   "metadata": {},
   "outputs": [],
   "source": [
    "# df2=df[df['InvoiceDate']=='2010-12-23']"
   ]
  },
  {
   "cell_type": "code",
   "execution_count": 83,
   "id": "bef232c9",
   "metadata": {},
   "outputs": [],
   "source": [
    "df_group=df2.groupby(['Customer ID', 'Country']).agg({'Total': ['sum']}). reset_index()\n",
    "df_group.columns = df_group.columns.droplevel(1)"
   ]
  },
  {
   "cell_type": "code",
   "execution_count": 84,
   "id": "41f709a4",
   "metadata": {},
   "outputs": [
    {
     "data": {
      "text/html": [
       "<div>\n",
       "<style scoped>\n",
       "    .dataframe tbody tr th:only-of-type {\n",
       "        vertical-align: middle;\n",
       "    }\n",
       "\n",
       "    .dataframe tbody tr th {\n",
       "        vertical-align: top;\n",
       "    }\n",
       "\n",
       "    .dataframe thead th {\n",
       "        text-align: right;\n",
       "    }\n",
       "</style>\n",
       "<table border=\"1\" class=\"dataframe\">\n",
       "  <thead>\n",
       "    <tr style=\"text-align: right;\">\n",
       "      <th></th>\n",
       "      <th>Customer ID</th>\n",
       "      <th>Country</th>\n",
       "      <th>Total</th>\n",
       "    </tr>\n",
       "  </thead>\n",
       "  <tbody>\n",
       "    <tr>\n",
       "      <th>0</th>\n",
       "      <td>12347.0</td>\n",
       "      <td>Iceland</td>\n",
       "      <td>711.79</td>\n",
       "    </tr>\n",
       "    <tr>\n",
       "      <th>1</th>\n",
       "      <td>12348.0</td>\n",
       "      <td>Finland</td>\n",
       "      <td>892.80</td>\n",
       "    </tr>\n",
       "    <tr>\n",
       "      <th>2</th>\n",
       "      <td>12370.0</td>\n",
       "      <td>Austria</td>\n",
       "      <td>277.20</td>\n",
       "    </tr>\n",
       "    <tr>\n",
       "      <th>3</th>\n",
       "      <td>12370.0</td>\n",
       "      <td>Cyprus</td>\n",
       "      <td>1587.07</td>\n",
       "    </tr>\n",
       "    <tr>\n",
       "      <th>4</th>\n",
       "      <td>12377.0</td>\n",
       "      <td>Switzerland</td>\n",
       "      <td>1001.52</td>\n",
       "    </tr>\n",
       "    <tr>\n",
       "      <th>...</th>\n",
       "      <td>...</td>\n",
       "      <td>...</td>\n",
       "      <td>...</td>\n",
       "    </tr>\n",
       "    <tr>\n",
       "      <th>350</th>\n",
       "      <td>14911.0</td>\n",
       "      <td>EIRE</td>\n",
       "      <td>7737.94</td>\n",
       "    </tr>\n",
       "    <tr>\n",
       "      <th>352</th>\n",
       "      <td>14932.0</td>\n",
       "      <td>Channel Islands</td>\n",
       "      <td>363.53</td>\n",
       "    </tr>\n",
       "    <tr>\n",
       "      <th>409</th>\n",
       "      <td>15332.0</td>\n",
       "      <td>Lithuania</td>\n",
       "      <td>1661.06</td>\n",
       "    </tr>\n",
       "    <tr>\n",
       "      <th>680</th>\n",
       "      <td>17097.0</td>\n",
       "      <td>Spain</td>\n",
       "      <td>174.72</td>\n",
       "    </tr>\n",
       "    <tr>\n",
       "      <th>733</th>\n",
       "      <td>17404.0</td>\n",
       "      <td>Sweden</td>\n",
       "      <td>3834.30</td>\n",
       "    </tr>\n",
       "  </tbody>\n",
       "</table>\n",
       "<p>71 rows × 3 columns</p>\n",
       "</div>"
      ],
      "text/plain": [
       "     Customer ID          Country    Total\n",
       "0        12347.0          Iceland   711.79\n",
       "1        12348.0          Finland   892.80\n",
       "2        12370.0          Austria   277.20\n",
       "3        12370.0           Cyprus  1587.07\n",
       "4        12377.0      Switzerland  1001.52\n",
       "..           ...              ...      ...\n",
       "350      14911.0             EIRE  7737.94\n",
       "352      14932.0  Channel Islands   363.53\n",
       "409      15332.0        Lithuania  1661.06\n",
       "680      17097.0            Spain   174.72\n",
       "733      17404.0           Sweden  3834.30\n",
       "\n",
       "[71 rows x 3 columns]"
      ]
     },
     "execution_count": 84,
     "metadata": {},
     "output_type": "execute_result"
    }
   ],
   "source": [
    "df_group=df_group[df_group['Country']!='United Kingdom']\n",
    "df_group"
   ]
  },
  {
   "cell_type": "markdown",
   "id": "29d922f7",
   "metadata": {},
   "source": [
    "### Полное совместное распределение"
   ]
  },
  {
   "cell_type": "markdown",
   "id": "79082f5b",
   "metadata": {},
   "source": [
    "Интересующее событие - стоимость чека декабря 2010 года,\n",
    "Событие наблюдение - страна "
   ]
  },
  {
   "cell_type": "code",
   "execution_count": 85,
   "id": "547e503e",
   "metadata": {},
   "outputs": [],
   "source": [
    "df_group['Max_Price']=(df_group['Total']//100+1)*100\n",
    "df_group['Max_Price'] = df_group['Max_Price'].astype(int) "
   ]
  },
  {
   "cell_type": "code",
   "execution_count": 86,
   "id": "1a9eb94e",
   "metadata": {},
   "outputs": [],
   "source": [
    "country=df_group['Country'].unique()\n",
    "max_price=df_group['Max_Price'].unique()"
   ]
  },
  {
   "cell_type": "code",
   "execution_count": 87,
   "id": "3ebe27af",
   "metadata": {},
   "outputs": [],
   "source": [
    "df_country=pd.DataFrame(data=country, columns=['country'])\n",
    "df_country['key']=0"
   ]
  },
  {
   "cell_type": "code",
   "execution_count": 88,
   "id": "941f345b",
   "metadata": {},
   "outputs": [],
   "source": [
    "df_max_price=pd.DataFrame(data=max_price, columns=['max_price'])\n",
    "df_max_price['key']=0"
   ]
  },
  {
   "cell_type": "code",
   "execution_count": 89,
   "id": "1e19ad52",
   "metadata": {},
   "outputs": [],
   "source": [
    "df_prob=df_country.merge(df_max_price, on='key', how='outer')\n",
    "df_prob['probability']=0"
   ]
  },
  {
   "cell_type": "code",
   "execution_count": 90,
   "id": "491b1de1",
   "metadata": {},
   "outputs": [],
   "source": [
    "len_df=len(df_group)"
   ]
  },
  {
   "cell_type": "code",
   "execution_count": 91,
   "id": "4bdd84d5",
   "metadata": {},
   "outputs": [],
   "source": [
    "def count_row(country, max_price):\n",
    "    df_temp=df_group[(df_group['Country']==country)&(df_group['Max_Price']==max_price)]\n",
    "    return len(df_temp)"
   ]
  },
  {
   "cell_type": "code",
   "execution_count": 92,
   "id": "2a10ce02",
   "metadata": {},
   "outputs": [],
   "source": [
    "for i, row in df_prob.iterrows():\n",
    "    country_temp=row['country']\n",
    "    max_price_temp=row['max_price']\n",
    "    res=count_row(country_temp, max_price_temp)\n",
    "    df_prob.iat[i, 3] = res/len_df"
   ]
  },
  {
   "cell_type": "code",
   "execution_count": 93,
   "id": "1dff8599",
   "metadata": {},
   "outputs": [
    {
     "data": {
      "text/html": [
       "<div>\n",
       "<style scoped>\n",
       "    .dataframe tbody tr th:only-of-type {\n",
       "        vertical-align: middle;\n",
       "    }\n",
       "\n",
       "    .dataframe tbody tr th {\n",
       "        vertical-align: top;\n",
       "    }\n",
       "\n",
       "    .dataframe thead th {\n",
       "        text-align: right;\n",
       "    }\n",
       "</style>\n",
       "<table border=\"1\" class=\"dataframe\">\n",
       "  <thead>\n",
       "    <tr style=\"text-align: right;\">\n",
       "      <th></th>\n",
       "      <th>country</th>\n",
       "      <th>max_price</th>\n",
       "      <th>probability</th>\n",
       "    </tr>\n",
       "  </thead>\n",
       "  <tbody>\n",
       "    <tr>\n",
       "      <th>219</th>\n",
       "      <td>France</td>\n",
       "      <td>200</td>\n",
       "      <td>0.070423</td>\n",
       "    </tr>\n",
       "    <tr>\n",
       "      <th>156</th>\n",
       "      <td>Germany</td>\n",
       "      <td>200</td>\n",
       "      <td>0.042254</td>\n",
       "    </tr>\n",
       "    <tr>\n",
       "      <th>214</th>\n",
       "      <td>France</td>\n",
       "      <td>1100</td>\n",
       "      <td>0.042254</td>\n",
       "    </tr>\n",
       "    <tr>\n",
       "      <th>107</th>\n",
       "      <td>Belgium</td>\n",
       "      <td>300</td>\n",
       "      <td>0.028169</td>\n",
       "    </tr>\n",
       "    <tr>\n",
       "      <th>261</th>\n",
       "      <td>Spain</td>\n",
       "      <td>200</td>\n",
       "      <td>0.028169</td>\n",
       "    </tr>\n",
       "    <tr>\n",
       "      <th>...</th>\n",
       "      <td>...</td>\n",
       "      <td>...</td>\n",
       "      <td>...</td>\n",
       "    </tr>\n",
       "    <tr>\n",
       "      <th>143</th>\n",
       "      <td>Australia</td>\n",
       "      <td>2200</td>\n",
       "      <td>0.000000</td>\n",
       "    </tr>\n",
       "    <tr>\n",
       "      <th>142</th>\n",
       "      <td>Australia</td>\n",
       "      <td>500</td>\n",
       "      <td>0.000000</td>\n",
       "    </tr>\n",
       "    <tr>\n",
       "      <th>141</th>\n",
       "      <td>Australia</td>\n",
       "      <td>1200</td>\n",
       "      <td>0.000000</td>\n",
       "    </tr>\n",
       "    <tr>\n",
       "      <th>140</th>\n",
       "      <td>Australia</td>\n",
       "      <td>1400</td>\n",
       "      <td>0.000000</td>\n",
       "    </tr>\n",
       "    <tr>\n",
       "      <th>440</th>\n",
       "      <td>Sweden</td>\n",
       "      <td>7800</td>\n",
       "      <td>0.000000</td>\n",
       "    </tr>\n",
       "  </tbody>\n",
       "</table>\n",
       "<p>441 rows × 3 columns</p>\n",
       "</div>"
      ],
      "text/plain": [
       "       country  max_price  probability\n",
       "219     France        200     0.070423\n",
       "156    Germany        200     0.042254\n",
       "214     France       1100     0.042254\n",
       "107    Belgium        300     0.028169\n",
       "261      Spain        200     0.028169\n",
       "..         ...        ...          ...\n",
       "143  Australia       2200     0.000000\n",
       "142  Australia        500     0.000000\n",
       "141  Australia       1200     0.000000\n",
       "140  Australia       1400     0.000000\n",
       "440     Sweden       7800     0.000000\n",
       "\n",
       "[441 rows x 3 columns]"
      ]
     },
     "execution_count": 93,
     "metadata": {},
     "output_type": "execute_result"
    }
   ],
   "source": [
    "df_prob=df_prob[['country', 'max_price', 'probability']].sort_values('probability', ascending=False)\n",
    "df_prob"
   ]
  },
  {
   "cell_type": "markdown",
   "id": "b7526fcc",
   "metadata": {},
   "source": [
    "### Частное распределение"
   ]
  },
  {
   "cell_type": "markdown",
   "id": "455ca2a2",
   "metadata": {},
   "source": [
    "#### P(country)"
   ]
  },
  {
   "cell_type": "code",
   "execution_count": 94,
   "id": "5f6bb4fc",
   "metadata": {},
   "outputs": [
    {
     "data": {
      "text/html": [
       "<div>\n",
       "<style scoped>\n",
       "    .dataframe tbody tr th:only-of-type {\n",
       "        vertical-align: middle;\n",
       "    }\n",
       "\n",
       "    .dataframe tbody tr th {\n",
       "        vertical-align: top;\n",
       "    }\n",
       "\n",
       "    .dataframe thead th {\n",
       "        text-align: right;\n",
       "    }\n",
       "</style>\n",
       "<table border=\"1\" class=\"dataframe\">\n",
       "  <thead>\n",
       "    <tr style=\"text-align: right;\">\n",
       "      <th></th>\n",
       "      <th>country</th>\n",
       "      <th>probability</th>\n",
       "    </tr>\n",
       "  </thead>\n",
       "  <tbody>\n",
       "    <tr>\n",
       "      <th>0</th>\n",
       "      <td>Australia</td>\n",
       "      <td>0.028169</td>\n",
       "    </tr>\n",
       "    <tr>\n",
       "      <th>1</th>\n",
       "      <td>Austria</td>\n",
       "      <td>0.014085</td>\n",
       "    </tr>\n",
       "    <tr>\n",
       "      <th>2</th>\n",
       "      <td>Belgium</td>\n",
       "      <td>0.056338</td>\n",
       "    </tr>\n",
       "    <tr>\n",
       "      <th>3</th>\n",
       "      <td>Channel Islands</td>\n",
       "      <td>0.014085</td>\n",
       "    </tr>\n",
       "    <tr>\n",
       "      <th>4</th>\n",
       "      <td>Cyprus</td>\n",
       "      <td>0.014085</td>\n",
       "    </tr>\n",
       "    <tr>\n",
       "      <th>5</th>\n",
       "      <td>Denmark</td>\n",
       "      <td>0.014085</td>\n",
       "    </tr>\n",
       "    <tr>\n",
       "      <th>6</th>\n",
       "      <td>EIRE</td>\n",
       "      <td>0.042254</td>\n",
       "    </tr>\n",
       "    <tr>\n",
       "      <th>7</th>\n",
       "      <td>Finland</td>\n",
       "      <td>0.014085</td>\n",
       "    </tr>\n",
       "    <tr>\n",
       "      <th>8</th>\n",
       "      <td>France</td>\n",
       "      <td>0.211268</td>\n",
       "    </tr>\n",
       "    <tr>\n",
       "      <th>9</th>\n",
       "      <td>Germany</td>\n",
       "      <td>0.253521</td>\n",
       "    </tr>\n",
       "    <tr>\n",
       "      <th>10</th>\n",
       "      <td>Iceland</td>\n",
       "      <td>0.014085</td>\n",
       "    </tr>\n",
       "    <tr>\n",
       "      <th>11</th>\n",
       "      <td>Italy</td>\n",
       "      <td>0.028169</td>\n",
       "    </tr>\n",
       "    <tr>\n",
       "      <th>12</th>\n",
       "      <td>Japan</td>\n",
       "      <td>0.042254</td>\n",
       "    </tr>\n",
       "    <tr>\n",
       "      <th>13</th>\n",
       "      <td>Lithuania</td>\n",
       "      <td>0.014085</td>\n",
       "    </tr>\n",
       "    <tr>\n",
       "      <th>14</th>\n",
       "      <td>Netherlands</td>\n",
       "      <td>0.028169</td>\n",
       "    </tr>\n",
       "    <tr>\n",
       "      <th>15</th>\n",
       "      <td>Norway</td>\n",
       "      <td>0.014085</td>\n",
       "    </tr>\n",
       "    <tr>\n",
       "      <th>16</th>\n",
       "      <td>Poland</td>\n",
       "      <td>0.014085</td>\n",
       "    </tr>\n",
       "    <tr>\n",
       "      <th>17</th>\n",
       "      <td>Portugal</td>\n",
       "      <td>0.084507</td>\n",
       "    </tr>\n",
       "    <tr>\n",
       "      <th>18</th>\n",
       "      <td>Spain</td>\n",
       "      <td>0.056338</td>\n",
       "    </tr>\n",
       "    <tr>\n",
       "      <th>19</th>\n",
       "      <td>Sweden</td>\n",
       "      <td>0.014085</td>\n",
       "    </tr>\n",
       "    <tr>\n",
       "      <th>20</th>\n",
       "      <td>Switzerland</td>\n",
       "      <td>0.028169</td>\n",
       "    </tr>\n",
       "  </tbody>\n",
       "</table>\n",
       "</div>"
      ],
      "text/plain": [
       "            country  probability\n",
       "0         Australia     0.028169\n",
       "1           Austria     0.014085\n",
       "2           Belgium     0.056338\n",
       "3   Channel Islands     0.014085\n",
       "4            Cyprus     0.014085\n",
       "5           Denmark     0.014085\n",
       "6              EIRE     0.042254\n",
       "7           Finland     0.014085\n",
       "8            France     0.211268\n",
       "9           Germany     0.253521\n",
       "10          Iceland     0.014085\n",
       "11            Italy     0.028169\n",
       "12            Japan     0.042254\n",
       "13        Lithuania     0.014085\n",
       "14      Netherlands     0.028169\n",
       "15           Norway     0.014085\n",
       "16           Poland     0.014085\n",
       "17         Portugal     0.084507\n",
       "18            Spain     0.056338\n",
       "19           Sweden     0.014085\n",
       "20      Switzerland     0.028169"
      ]
     },
     "execution_count": 94,
     "metadata": {},
     "output_type": "execute_result"
    }
   ],
   "source": [
    "df_P_c=df_prob.groupby(['country']).agg({'probability': ['sum']}). reset_index()\n",
    "df_P_c.columns = df_P_c.columns.droplevel(1)\n",
    "df_P_c"
   ]
  },
  {
   "cell_type": "markdown",
   "id": "68cecb07",
   "metadata": {},
   "source": [
    "#### P(max_price)"
   ]
  },
  {
   "cell_type": "code",
   "execution_count": 95,
   "id": "b536d0e6",
   "metadata": {},
   "outputs": [
    {
     "data": {
      "text/html": [
       "<div>\n",
       "<style scoped>\n",
       "    .dataframe tbody tr th:only-of-type {\n",
       "        vertical-align: middle;\n",
       "    }\n",
       "\n",
       "    .dataframe tbody tr th {\n",
       "        vertical-align: top;\n",
       "    }\n",
       "\n",
       "    .dataframe thead th {\n",
       "        text-align: right;\n",
       "    }\n",
       "</style>\n",
       "<table border=\"1\" class=\"dataframe\">\n",
       "  <thead>\n",
       "    <tr style=\"text-align: right;\">\n",
       "      <th></th>\n",
       "      <th>max_price</th>\n",
       "      <th>probability</th>\n",
       "    </tr>\n",
       "  </thead>\n",
       "  <tbody>\n",
       "    <tr>\n",
       "      <th>0</th>\n",
       "      <td>100</td>\n",
       "      <td>0.042254</td>\n",
       "    </tr>\n",
       "    <tr>\n",
       "      <th>1</th>\n",
       "      <td>200</td>\n",
       "      <td>0.183099</td>\n",
       "    </tr>\n",
       "    <tr>\n",
       "      <th>2</th>\n",
       "      <td>300</td>\n",
       "      <td>0.140845</td>\n",
       "    </tr>\n",
       "    <tr>\n",
       "      <th>3</th>\n",
       "      <td>400</td>\n",
       "      <td>0.098592</td>\n",
       "    </tr>\n",
       "    <tr>\n",
       "      <th>4</th>\n",
       "      <td>500</td>\n",
       "      <td>0.056338</td>\n",
       "    </tr>\n",
       "    <tr>\n",
       "      <th>5</th>\n",
       "      <td>700</td>\n",
       "      <td>0.056338</td>\n",
       "    </tr>\n",
       "    <tr>\n",
       "      <th>6</th>\n",
       "      <td>800</td>\n",
       "      <td>0.056338</td>\n",
       "    </tr>\n",
       "    <tr>\n",
       "      <th>7</th>\n",
       "      <td>900</td>\n",
       "      <td>0.056338</td>\n",
       "    </tr>\n",
       "    <tr>\n",
       "      <th>8</th>\n",
       "      <td>1100</td>\n",
       "      <td>0.056338</td>\n",
       "    </tr>\n",
       "    <tr>\n",
       "      <th>9</th>\n",
       "      <td>1200</td>\n",
       "      <td>0.028169</td>\n",
       "    </tr>\n",
       "    <tr>\n",
       "      <th>10</th>\n",
       "      <td>1300</td>\n",
       "      <td>0.028169</td>\n",
       "    </tr>\n",
       "    <tr>\n",
       "      <th>11</th>\n",
       "      <td>1400</td>\n",
       "      <td>0.028169</td>\n",
       "    </tr>\n",
       "    <tr>\n",
       "      <th>12</th>\n",
       "      <td>1600</td>\n",
       "      <td>0.014085</td>\n",
       "    </tr>\n",
       "    <tr>\n",
       "      <th>13</th>\n",
       "      <td>1700</td>\n",
       "      <td>0.028169</td>\n",
       "    </tr>\n",
       "    <tr>\n",
       "      <th>14</th>\n",
       "      <td>2000</td>\n",
       "      <td>0.014085</td>\n",
       "    </tr>\n",
       "    <tr>\n",
       "      <th>15</th>\n",
       "      <td>2200</td>\n",
       "      <td>0.014085</td>\n",
       "    </tr>\n",
       "    <tr>\n",
       "      <th>16</th>\n",
       "      <td>3600</td>\n",
       "      <td>0.014085</td>\n",
       "    </tr>\n",
       "    <tr>\n",
       "      <th>17</th>\n",
       "      <td>3800</td>\n",
       "      <td>0.028169</td>\n",
       "    </tr>\n",
       "    <tr>\n",
       "      <th>18</th>\n",
       "      <td>3900</td>\n",
       "      <td>0.028169</td>\n",
       "    </tr>\n",
       "    <tr>\n",
       "      <th>19</th>\n",
       "      <td>7800</td>\n",
       "      <td>0.014085</td>\n",
       "    </tr>\n",
       "    <tr>\n",
       "      <th>20</th>\n",
       "      <td>8600</td>\n",
       "      <td>0.014085</td>\n",
       "    </tr>\n",
       "  </tbody>\n",
       "</table>\n",
       "</div>"
      ],
      "text/plain": [
       "    max_price  probability\n",
       "0         100     0.042254\n",
       "1         200     0.183099\n",
       "2         300     0.140845\n",
       "3         400     0.098592\n",
       "4         500     0.056338\n",
       "5         700     0.056338\n",
       "6         800     0.056338\n",
       "7         900     0.056338\n",
       "8        1100     0.056338\n",
       "9        1200     0.028169\n",
       "10       1300     0.028169\n",
       "11       1400     0.028169\n",
       "12       1600     0.014085\n",
       "13       1700     0.028169\n",
       "14       2000     0.014085\n",
       "15       2200     0.014085\n",
       "16       3600     0.014085\n",
       "17       3800     0.028169\n",
       "18       3900     0.028169\n",
       "19       7800     0.014085\n",
       "20       8600     0.014085"
      ]
     },
     "execution_count": 95,
     "metadata": {},
     "output_type": "execute_result"
    }
   ],
   "source": [
    "df_P_p=df_prob.groupby(['max_price']).agg({'probability': ['sum']}). reset_index()\n",
    "df_P_p.columns = df_P_p.columns.droplevel(1)\n",
    "df_P_p"
   ]
  },
  {
   "cell_type": "markdown",
   "id": "38186e23",
   "metadata": {},
   "source": [
    "### Условное распределение"
   ]
  },
  {
   "cell_type": "markdown",
   "id": "7e01d579",
   "metadata": {},
   "source": [
    "#### P(max_price>500 | country = Germany)"
   ]
  },
  {
   "cell_type": "code",
   "execution_count": 96,
   "id": "32d3e5a4",
   "metadata": {},
   "outputs": [],
   "source": [
    "P_more500_and_UK=df_prob[(df_prob['max_price']>500)&(df_prob['country']=='Germany')]['probability'].sum()"
   ]
  },
  {
   "cell_type": "code",
   "execution_count": 97,
   "id": "a9abf497",
   "metadata": {},
   "outputs": [],
   "source": [
    "P_UK=df_prob[df_prob['country']=='Germany']['probability'].sum()"
   ]
  },
  {
   "cell_type": "code",
   "execution_count": 98,
   "id": "7e84f8e5",
   "metadata": {},
   "outputs": [
    {
     "data": {
      "text/plain": [
       "0.5"
      ]
     },
     "execution_count": 98,
     "metadata": {},
     "output_type": "execute_result"
    }
   ],
   "source": [
    "P_more500_UK=P_more500_and_UK/P_UK\n",
    "P_more500_UK"
   ]
  },
  {
   "cell_type": "code",
   "execution_count": null,
   "id": "11baf3f1",
   "metadata": {},
   "outputs": [],
   "source": []
  },
  {
   "cell_type": "code",
   "execution_count": 99,
   "id": "8a936d66",
   "metadata": {},
   "outputs": [
    {
     "data": {
      "text/html": [
       "<div>\n",
       "<style scoped>\n",
       "    .dataframe tbody tr th:only-of-type {\n",
       "        vertical-align: middle;\n",
       "    }\n",
       "\n",
       "    .dataframe tbody tr th {\n",
       "        vertical-align: top;\n",
       "    }\n",
       "\n",
       "    .dataframe thead th {\n",
       "        text-align: right;\n",
       "    }\n",
       "</style>\n",
       "<table border=\"1\" class=\"dataframe\">\n",
       "  <thead>\n",
       "    <tr style=\"text-align: right;\">\n",
       "      <th></th>\n",
       "      <th>country</th>\n",
       "      <th>max_price</th>\n",
       "      <th>probability</th>\n",
       "    </tr>\n",
       "  </thead>\n",
       "  <tbody>\n",
       "    <tr>\n",
       "      <th>219</th>\n",
       "      <td>France</td>\n",
       "      <td>200</td>\n",
       "      <td>0.070423</td>\n",
       "    </tr>\n",
       "    <tr>\n",
       "      <th>156</th>\n",
       "      <td>Germany</td>\n",
       "      <td>200</td>\n",
       "      <td>0.042254</td>\n",
       "    </tr>\n",
       "    <tr>\n",
       "      <th>214</th>\n",
       "      <td>France</td>\n",
       "      <td>1100</td>\n",
       "      <td>0.042254</td>\n",
       "    </tr>\n",
       "    <tr>\n",
       "      <th>107</th>\n",
       "      <td>Belgium</td>\n",
       "      <td>300</td>\n",
       "      <td>0.028169</td>\n",
       "    </tr>\n",
       "    <tr>\n",
       "      <th>261</th>\n",
       "      <td>Spain</td>\n",
       "      <td>200</td>\n",
       "      <td>0.028169</td>\n",
       "    </tr>\n",
       "    <tr>\n",
       "      <th>...</th>\n",
       "      <td>...</td>\n",
       "      <td>...</td>\n",
       "      <td>...</td>\n",
       "    </tr>\n",
       "    <tr>\n",
       "      <th>143</th>\n",
       "      <td>Australia</td>\n",
       "      <td>2200</td>\n",
       "      <td>0.000000</td>\n",
       "    </tr>\n",
       "    <tr>\n",
       "      <th>142</th>\n",
       "      <td>Australia</td>\n",
       "      <td>500</td>\n",
       "      <td>0.000000</td>\n",
       "    </tr>\n",
       "    <tr>\n",
       "      <th>141</th>\n",
       "      <td>Australia</td>\n",
       "      <td>1200</td>\n",
       "      <td>0.000000</td>\n",
       "    </tr>\n",
       "    <tr>\n",
       "      <th>140</th>\n",
       "      <td>Australia</td>\n",
       "      <td>1400</td>\n",
       "      <td>0.000000</td>\n",
       "    </tr>\n",
       "    <tr>\n",
       "      <th>440</th>\n",
       "      <td>Sweden</td>\n",
       "      <td>7800</td>\n",
       "      <td>0.000000</td>\n",
       "    </tr>\n",
       "  </tbody>\n",
       "</table>\n",
       "<p>441 rows × 3 columns</p>\n",
       "</div>"
      ],
      "text/plain": [
       "       country  max_price  probability\n",
       "219     France        200     0.070423\n",
       "156    Germany        200     0.042254\n",
       "214     France       1100     0.042254\n",
       "107    Belgium        300     0.028169\n",
       "261      Spain        200     0.028169\n",
       "..         ...        ...          ...\n",
       "143  Australia       2200     0.000000\n",
       "142  Australia        500     0.000000\n",
       "141  Australia       1200     0.000000\n",
       "140  Australia       1400     0.000000\n",
       "440     Sweden       7800     0.000000\n",
       "\n",
       "[441 rows x 3 columns]"
      ]
     },
     "execution_count": 99,
     "metadata": {},
     "output_type": "execute_result"
    }
   ],
   "source": [
    "df_prob"
   ]
  },
  {
   "cell_type": "markdown",
   "id": "c2486667",
   "metadata": {},
   "source": [
    "### Предсказание"
   ]
  },
  {
   "cell_type": "markdown",
   "id": "82bb96c3",
   "metadata": {},
   "source": [
    "Ищем вероятность для клиента из Германии с чеком 400-500"
   ]
  },
  {
   "cell_type": "code",
   "execution_count": 100,
   "id": "4c1b8147",
   "metadata": {},
   "outputs": [
    {
     "name": "stdout",
     "output_type": "stream",
     "text": [
      "Вероятность покупки товаров на сумму 500 в стране Germany равна 0.028169014084507043\n"
     ]
    }
   ],
   "source": [
    "obs_country = 'Germany'\n",
    "obs_max_price = 500  \n",
    "\n",
    "prob = 1.0\n",
    "    \n",
    "# Находим соответствующую вероятность из таблицы условных вероятностей\n",
    "prob_row = df_prob[(df_prob['max_price'] == obs_max_price) & (df_prob['country'] == obs_country)]\n",
    "\n",
    "if not prob_row.empty:\n",
    "    prob *= prob_row['probability'].values[0]\n",
    "\n",
    "print(f\"Вероятность покупки товаров на сумму {obs_max_price} в стране {obs_country} равна {prob}\")"
   ]
  },
  {
   "cell_type": "markdown",
   "id": "1e245e6a",
   "metadata": {},
   "source": [
    "#### Предсказание с помощью случайного леса"
   ]
  },
  {
   "cell_type": "code",
   "execution_count": 101,
   "id": "b6139564",
   "metadata": {},
   "outputs": [],
   "source": [
    "label_encoder = LabelEncoder()\n",
    "df_pred=df_prob\n",
    "df_pred['country'] = label_encoder.fit_transform(df_pred['country'])\n",
    "df_pred['probability'] = label_encoder.fit_transform(df_pred['probability'])\n",
    "\n"
   ]
  },
  {
   "cell_type": "code",
   "execution_count": 102,
   "id": "7b02a669",
   "metadata": {},
   "outputs": [],
   "source": [
    "# Разделяем данные на обучающий и тестовый наборы\n",
    "X = df_pred.drop('probability', axis=1)\n",
    "y = df_prob['probability']\n",
    "X_train, X_test, y_train, y_test = train_test_split(X, y, test_size=0.2, random_state=42)\n"
   ]
  },
  {
   "cell_type": "code",
   "execution_count": 103,
   "id": "5bb03906",
   "metadata": {},
   "outputs": [
    {
     "name": "stdout",
     "output_type": "stream",
     "text": [
      "Точность модели: 0.8539325842696629\n"
     ]
    }
   ],
   "source": [
    "# Модель\n",
    "model = RandomForestClassifier() \n",
    "model.fit(X_train, y_train)\n",
    "\n",
    "y_pred = model.predict(X_test)\n"
   ]
  },
  {
   "cell_type": "markdown",
   "id": "5a8382d1",
   "metadata": {},
   "source": [
    "### Оценка"
   ]
  },
  {
   "cell_type": "code",
   "execution_count": 105,
   "id": "d1c33931",
   "metadata": {},
   "outputs": [
    {
     "name": "stdout",
     "output_type": "stream",
     "text": [
      "              precision    recall  f1-score   support\n",
      "\n",
      "           0       0.90      0.95      0.92        76\n",
      "           1       0.50      0.36      0.42        11\n",
      "           2       0.00      0.00      0.00         1\n",
      "           4       0.00      0.00      0.00         1\n",
      "\n",
      "    accuracy                           0.85        89\n",
      "   macro avg       0.35      0.33      0.34        89\n",
      "weighted avg       0.83      0.85      0.84        89\n",
      "\n"
     ]
    },
    {
     "name": "stderr",
     "output_type": "stream",
     "text": [
      "C:\\Users\\12967\\anaconda3\\lib\\site-packages\\sklearn\\metrics\\_classification.py:1318: UndefinedMetricWarning: Precision and F-score are ill-defined and being set to 0.0 in labels with no predicted samples. Use `zero_division` parameter to control this behavior.\n",
      "  _warn_prf(average, modifier, msg_start, len(result))\n",
      "C:\\Users\\12967\\anaconda3\\lib\\site-packages\\sklearn\\metrics\\_classification.py:1318: UndefinedMetricWarning: Precision and F-score are ill-defined and being set to 0.0 in labels with no predicted samples. Use `zero_division` parameter to control this behavior.\n",
      "  _warn_prf(average, modifier, msg_start, len(result))\n",
      "C:\\Users\\12967\\anaconda3\\lib\\site-packages\\sklearn\\metrics\\_classification.py:1318: UndefinedMetricWarning: Precision and F-score are ill-defined and being set to 0.0 in labels with no predicted samples. Use `zero_division` parameter to control this behavior.\n",
      "  _warn_prf(average, modifier, msg_start, len(result))\n"
     ]
    }
   ],
   "source": [
    "from sklearn.metrics import classification_report \n",
    "print(classification_report(y_test, model.predict(X_test)))"
   ]
  },
  {
   "cell_type": "code",
   "execution_count": null,
   "id": "0b6671bd",
   "metadata": {},
   "outputs": [],
   "source": []
  }
 ],
 "metadata": {
  "kernelspec": {
   "display_name": "Python 3 (ipykernel)",
   "language": "python",
   "name": "python3"
  },
  "language_info": {
   "codemirror_mode": {
    "name": "ipython",
    "version": 3
   },
   "file_extension": ".py",
   "mimetype": "text/x-python",
   "name": "python",
   "nbconvert_exporter": "python",
   "pygments_lexer": "ipython3",
   "version": "3.9.12"
  }
 },
 "nbformat": 4,
 "nbformat_minor": 5
}
