{
 "cells": [
  {
   "cell_type": "code",
   "execution_count": 1,
   "id": "401580f9",
   "metadata": {},
   "outputs": [],
   "source": [
    "import pandas as pd\n",
    "import math\n",
    "import numpy as np"
   ]
  },
  {
   "cell_type": "markdown",
   "id": "d1dcd95c",
   "metadata": {},
   "source": [
    "### Загрузка и обработка данных"
   ]
  },
  {
   "cell_type": "code",
   "execution_count": 76,
   "id": "68c9f7bd",
   "metadata": {},
   "outputs": [],
   "source": [
    "df=pd.read_csv('Data.csv')"
   ]
  },
  {
   "cell_type": "code",
   "execution_count": 117,
   "id": "fec17787",
   "metadata": {},
   "outputs": [],
   "source": [
    "df['InvoiceDate'] = pd.to_datetime(df['InvoiceDate'], format='%Y-%m-%d')\n",
    "df['InvoiceDate'] = df['InvoiceDate'].dt.strftime('%Y-%m-%d')"
   ]
  },
  {
   "cell_type": "code",
   "execution_count": 118,
   "id": "081d5252",
   "metadata": {},
   "outputs": [],
   "source": [
    "df2=df[df.InvoiceDate.str.contains(r'2010-12-\\d\\d', regex= True, na=False)]"
   ]
  },
  {
   "cell_type": "code",
   "execution_count": 99,
   "id": "aebc6d69",
   "metadata": {},
   "outputs": [],
   "source": [
    "# df2=df[df['InvoiceDate']=='2010-12-23']"
   ]
  },
  {
   "cell_type": "code",
   "execution_count": 136,
   "id": "f4235fbc",
   "metadata": {},
   "outputs": [
    {
     "name": "stderr",
     "output_type": "stream",
     "text": [
      "C:\\Users\\12967\\AppData\\Local\\Temp\\ipykernel_8480\\615049507.py:1: SettingWithCopyWarning: \n",
      "A value is trying to be set on a copy of a slice from a DataFrame.\n",
      "Try using .loc[row_indexer,col_indexer] = value instead\n",
      "\n",
      "See the caveats in the documentation: https://pandas.pydata.org/pandas-docs/stable/user_guide/indexing.html#returning-a-view-versus-a-copy\n",
      "  df2['Total']=df2['Quantity']*df2['Price']\n"
     ]
    }
   ],
   "source": [
    "df2['Total']=df2['Quantity']*df2['Price']"
   ]
  },
  {
   "cell_type": "code",
   "execution_count": 137,
   "id": "bef232c9",
   "metadata": {},
   "outputs": [],
   "source": [
    "df_group=df2.groupby(['Customer ID', 'Country']).agg({'Total': ['sum']}). reset_index()\n",
    "df_group.columns = df_group.columns.droplevel(1)"
   ]
  },
  {
   "cell_type": "code",
   "execution_count": 138,
   "id": "41f709a4",
   "metadata": {},
   "outputs": [],
   "source": [
    "df_group=df_group[df_group['Country']!='United Kingdom']"
   ]
  },
  {
   "cell_type": "markdown",
   "id": "29d922f7",
   "metadata": {},
   "source": [
    "### Полное совместное распределение"
   ]
  },
  {
   "cell_type": "markdown",
   "id": "79082f5b",
   "metadata": {},
   "source": [
    "Интересующее событие - стоимость чека декабря 2010 года,\n",
    "Событие наблюдение - страна "
   ]
  },
  {
   "cell_type": "code",
   "execution_count": 139,
   "id": "547e503e",
   "metadata": {},
   "outputs": [],
   "source": [
    "df_group['Max_Price']=(df_group['Total']//100+1)*100\n",
    "df_group['Max_Price'] = df_group['Max_Price'].astype(int) "
   ]
  },
  {
   "cell_type": "code",
   "execution_count": 140,
   "id": "1a9eb94e",
   "metadata": {},
   "outputs": [],
   "source": [
    "country=df_group['Country'].unique()\n",
    "max_price=df_group['Max_Price'].unique()"
   ]
  },
  {
   "cell_type": "code",
   "execution_count": 141,
   "id": "3ebe27af",
   "metadata": {},
   "outputs": [],
   "source": [
    "df_country=pd.DataFrame(data=country, columns=['country'])\n",
    "df_country['key']=0"
   ]
  },
  {
   "cell_type": "code",
   "execution_count": 142,
   "id": "941f345b",
   "metadata": {},
   "outputs": [],
   "source": [
    "df_max_price=pd.DataFrame(data=max_price, columns=['max_price'])\n",
    "df_max_price['key']=0"
   ]
  },
  {
   "cell_type": "code",
   "execution_count": 143,
   "id": "1e19ad52",
   "metadata": {},
   "outputs": [],
   "source": [
    "df_prob=df_country.merge(df_max_price, on='key', how='outer')\n",
    "df_prob['probability']=0"
   ]
  },
  {
   "cell_type": "code",
   "execution_count": 144,
   "id": "491b1de1",
   "metadata": {},
   "outputs": [],
   "source": [
    "len_df=len(df_group)"
   ]
  },
  {
   "cell_type": "code",
   "execution_count": 145,
   "id": "4bdd84d5",
   "metadata": {},
   "outputs": [],
   "source": [
    "def count_row(country, max_price):\n",
    "    df_temp=df_group[(df_group['Country']==country)&(df_group['Max_Price']==max_price)]\n",
    "    return len(df_temp)"
   ]
  },
  {
   "cell_type": "code",
   "execution_count": 146,
   "id": "2a10ce02",
   "metadata": {},
   "outputs": [],
   "source": [
    "for i, row in df_prob.iterrows():\n",
    "    country_temp=row['country']\n",
    "    max_price_temp=row['max_price']\n",
    "    res=count_row(country_temp, max_price_temp)\n",
    "    df_prob.iat[i, 3] = res/len_df"
   ]
  },
  {
   "cell_type": "code",
   "execution_count": 147,
   "id": "1dff8599",
   "metadata": {},
   "outputs": [
    {
     "data": {
      "text/html": [
       "<div>\n",
       "<style scoped>\n",
       "    .dataframe tbody tr th:only-of-type {\n",
       "        vertical-align: middle;\n",
       "    }\n",
       "\n",
       "    .dataframe tbody tr th {\n",
       "        vertical-align: top;\n",
       "    }\n",
       "\n",
       "    .dataframe thead th {\n",
       "        text-align: right;\n",
       "    }\n",
       "</style>\n",
       "<table border=\"1\" class=\"dataframe\">\n",
       "  <thead>\n",
       "    <tr style=\"text-align: right;\">\n",
       "      <th></th>\n",
       "      <th>country</th>\n",
       "      <th>max_price</th>\n",
       "      <th>probability</th>\n",
       "    </tr>\n",
       "  </thead>\n",
       "  <tbody>\n",
       "    <tr>\n",
       "      <th>239</th>\n",
       "      <td>France</td>\n",
       "      <td>200</td>\n",
       "      <td>0.064103</td>\n",
       "    </tr>\n",
       "    <tr>\n",
       "      <th>169</th>\n",
       "      <td>Germany</td>\n",
       "      <td>0</td>\n",
       "      <td>0.051282</td>\n",
       "    </tr>\n",
       "    <tr>\n",
       "      <th>163</th>\n",
       "      <td>Germany</td>\n",
       "      <td>300</td>\n",
       "      <td>0.038462</td>\n",
       "    </tr>\n",
       "    <tr>\n",
       "      <th>170</th>\n",
       "      <td>Germany</td>\n",
       "      <td>200</td>\n",
       "      <td>0.038462</td>\n",
       "    </tr>\n",
       "    <tr>\n",
       "      <th>234</th>\n",
       "      <td>France</td>\n",
       "      <td>1100</td>\n",
       "      <td>0.038462</td>\n",
       "    </tr>\n",
       "    <tr>\n",
       "      <th>...</th>\n",
       "      <td>...</td>\n",
       "      <td>...</td>\n",
       "      <td>...</td>\n",
       "    </tr>\n",
       "    <tr>\n",
       "      <th>201</th>\n",
       "      <td>Denmark</td>\n",
       "      <td>500</td>\n",
       "      <td>0.000000</td>\n",
       "    </tr>\n",
       "    <tr>\n",
       "      <th>200</th>\n",
       "      <td>Denmark</td>\n",
       "      <td>-200</td>\n",
       "      <td>0.000000</td>\n",
       "    </tr>\n",
       "    <tr>\n",
       "      <th>199</th>\n",
       "      <td>Denmark</td>\n",
       "      <td>1200</td>\n",
       "      <td>0.000000</td>\n",
       "    </tr>\n",
       "    <tr>\n",
       "      <th>198</th>\n",
       "      <td>Denmark</td>\n",
       "      <td>1400</td>\n",
       "      <td>0.000000</td>\n",
       "    </tr>\n",
       "    <tr>\n",
       "      <th>253</th>\n",
       "      <td>Italy</td>\n",
       "      <td>800</td>\n",
       "      <td>0.000000</td>\n",
       "    </tr>\n",
       "  </tbody>\n",
       "</table>\n",
       "<p>506 rows × 3 columns</p>\n",
       "</div>"
      ],
      "text/plain": [
       "     country  max_price  probability\n",
       "239   France        200     0.064103\n",
       "169  Germany          0     0.051282\n",
       "163  Germany        300     0.038462\n",
       "170  Germany        200     0.038462\n",
       "234   France       1100     0.038462\n",
       "..       ...        ...          ...\n",
       "201  Denmark        500     0.000000\n",
       "200  Denmark       -200     0.000000\n",
       "199  Denmark       1200     0.000000\n",
       "198  Denmark       1400     0.000000\n",
       "253    Italy        800     0.000000\n",
       "\n",
       "[506 rows x 3 columns]"
      ]
     },
     "execution_count": 147,
     "metadata": {},
     "output_type": "execute_result"
    }
   ],
   "source": [
    "df_prob=df_prob[['country', 'max_price', 'probability']].sort_values('probability', ascending=False)\n",
    "df_prob"
   ]
  },
  {
   "cell_type": "markdown",
   "id": "b7526fcc",
   "metadata": {},
   "source": [
    "### Частное распределение"
   ]
  },
  {
   "cell_type": "markdown",
   "id": "455ca2a2",
   "metadata": {},
   "source": [
    "#### P(country)"
   ]
  },
  {
   "cell_type": "code",
   "execution_count": 148,
   "id": "5f6bb4fc",
   "metadata": {},
   "outputs": [
    {
     "data": {
      "text/html": [
       "<div>\n",
       "<style scoped>\n",
       "    .dataframe tbody tr th:only-of-type {\n",
       "        vertical-align: middle;\n",
       "    }\n",
       "\n",
       "    .dataframe tbody tr th {\n",
       "        vertical-align: top;\n",
       "    }\n",
       "\n",
       "    .dataframe thead th {\n",
       "        text-align: right;\n",
       "    }\n",
       "</style>\n",
       "<table border=\"1\" class=\"dataframe\">\n",
       "  <thead>\n",
       "    <tr style=\"text-align: right;\">\n",
       "      <th></th>\n",
       "      <th>country</th>\n",
       "      <th>probability</th>\n",
       "    </tr>\n",
       "  </thead>\n",
       "  <tbody>\n",
       "    <tr>\n",
       "      <th>0</th>\n",
       "      <td>Australia</td>\n",
       "      <td>0.038462</td>\n",
       "    </tr>\n",
       "    <tr>\n",
       "      <th>1</th>\n",
       "      <td>Austria</td>\n",
       "      <td>0.025641</td>\n",
       "    </tr>\n",
       "    <tr>\n",
       "      <th>2</th>\n",
       "      <td>Belgium</td>\n",
       "      <td>0.051282</td>\n",
       "    </tr>\n",
       "    <tr>\n",
       "      <th>3</th>\n",
       "      <td>Channel Islands</td>\n",
       "      <td>0.012821</td>\n",
       "    </tr>\n",
       "    <tr>\n",
       "      <th>4</th>\n",
       "      <td>Cyprus</td>\n",
       "      <td>0.012821</td>\n",
       "    </tr>\n",
       "    <tr>\n",
       "      <th>5</th>\n",
       "      <td>Denmark</td>\n",
       "      <td>0.012821</td>\n",
       "    </tr>\n",
       "    <tr>\n",
       "      <th>6</th>\n",
       "      <td>EIRE</td>\n",
       "      <td>0.038462</td>\n",
       "    </tr>\n",
       "    <tr>\n",
       "      <th>7</th>\n",
       "      <td>Finland</td>\n",
       "      <td>0.012821</td>\n",
       "    </tr>\n",
       "    <tr>\n",
       "      <th>8</th>\n",
       "      <td>France</td>\n",
       "      <td>0.192308</td>\n",
       "    </tr>\n",
       "    <tr>\n",
       "      <th>9</th>\n",
       "      <td>Germany</td>\n",
       "      <td>0.269231</td>\n",
       "    </tr>\n",
       "    <tr>\n",
       "      <th>10</th>\n",
       "      <td>Iceland</td>\n",
       "      <td>0.012821</td>\n",
       "    </tr>\n",
       "    <tr>\n",
       "      <th>11</th>\n",
       "      <td>Israel</td>\n",
       "      <td>0.012821</td>\n",
       "    </tr>\n",
       "    <tr>\n",
       "      <th>12</th>\n",
       "      <td>Italy</td>\n",
       "      <td>0.038462</td>\n",
       "    </tr>\n",
       "    <tr>\n",
       "      <th>13</th>\n",
       "      <td>Japan</td>\n",
       "      <td>0.038462</td>\n",
       "    </tr>\n",
       "    <tr>\n",
       "      <th>14</th>\n",
       "      <td>Lithuania</td>\n",
       "      <td>0.012821</td>\n",
       "    </tr>\n",
       "    <tr>\n",
       "      <th>15</th>\n",
       "      <td>Netherlands</td>\n",
       "      <td>0.025641</td>\n",
       "    </tr>\n",
       "    <tr>\n",
       "      <th>16</th>\n",
       "      <td>Norway</td>\n",
       "      <td>0.012821</td>\n",
       "    </tr>\n",
       "    <tr>\n",
       "      <th>17</th>\n",
       "      <td>Poland</td>\n",
       "      <td>0.012821</td>\n",
       "    </tr>\n",
       "    <tr>\n",
       "      <th>18</th>\n",
       "      <td>Portugal</td>\n",
       "      <td>0.076923</td>\n",
       "    </tr>\n",
       "    <tr>\n",
       "      <th>19</th>\n",
       "      <td>Spain</td>\n",
       "      <td>0.051282</td>\n",
       "    </tr>\n",
       "    <tr>\n",
       "      <th>20</th>\n",
       "      <td>Sweden</td>\n",
       "      <td>0.012821</td>\n",
       "    </tr>\n",
       "    <tr>\n",
       "      <th>21</th>\n",
       "      <td>Switzerland</td>\n",
       "      <td>0.025641</td>\n",
       "    </tr>\n",
       "  </tbody>\n",
       "</table>\n",
       "</div>"
      ],
      "text/plain": [
       "            country  probability\n",
       "0         Australia     0.038462\n",
       "1           Austria     0.025641\n",
       "2           Belgium     0.051282\n",
       "3   Channel Islands     0.012821\n",
       "4            Cyprus     0.012821\n",
       "5           Denmark     0.012821\n",
       "6              EIRE     0.038462\n",
       "7           Finland     0.012821\n",
       "8            France     0.192308\n",
       "9           Germany     0.269231\n",
       "10          Iceland     0.012821\n",
       "11           Israel     0.012821\n",
       "12            Italy     0.038462\n",
       "13            Japan     0.038462\n",
       "14        Lithuania     0.012821\n",
       "15      Netherlands     0.025641\n",
       "16           Norway     0.012821\n",
       "17           Poland     0.012821\n",
       "18         Portugal     0.076923\n",
       "19            Spain     0.051282\n",
       "20           Sweden     0.012821\n",
       "21      Switzerland     0.025641"
      ]
     },
     "execution_count": 148,
     "metadata": {},
     "output_type": "execute_result"
    }
   ],
   "source": [
    "df_P_c=df_prob.groupby(['country']).agg({'probability': ['sum']}). reset_index()\n",
    "df_P_c.columns = df_P_c.columns.droplevel(1)\n",
    "df_P_c"
   ]
  },
  {
   "cell_type": "markdown",
   "id": "68cecb07",
   "metadata": {},
   "source": [
    "#### P(max_price)"
   ]
  },
  {
   "cell_type": "code",
   "execution_count": 150,
   "id": "b536d0e6",
   "metadata": {},
   "outputs": [
    {
     "data": {
      "text/html": [
       "<div>\n",
       "<style scoped>\n",
       "    .dataframe tbody tr th:only-of-type {\n",
       "        vertical-align: middle;\n",
       "    }\n",
       "\n",
       "    .dataframe tbody tr th {\n",
       "        vertical-align: top;\n",
       "    }\n",
       "\n",
       "    .dataframe thead th {\n",
       "        text-align: right;\n",
       "    }\n",
       "</style>\n",
       "<table border=\"1\" class=\"dataframe\">\n",
       "  <thead>\n",
       "    <tr style=\"text-align: right;\">\n",
       "      <th></th>\n",
       "      <th>max_price</th>\n",
       "      <th>probability</th>\n",
       "    </tr>\n",
       "  </thead>\n",
       "  <tbody>\n",
       "    <tr>\n",
       "      <th>0</th>\n",
       "      <td>-200</td>\n",
       "      <td>0.012821</td>\n",
       "    </tr>\n",
       "    <tr>\n",
       "      <th>1</th>\n",
       "      <td>0</td>\n",
       "      <td>0.089744</td>\n",
       "    </tr>\n",
       "    <tr>\n",
       "      <th>2</th>\n",
       "      <td>100</td>\n",
       "      <td>0.025641</td>\n",
       "    </tr>\n",
       "    <tr>\n",
       "      <th>3</th>\n",
       "      <td>200</td>\n",
       "      <td>0.179487</td>\n",
       "    </tr>\n",
       "    <tr>\n",
       "      <th>4</th>\n",
       "      <td>300</td>\n",
       "      <td>0.128205</td>\n",
       "    </tr>\n",
       "    <tr>\n",
       "      <th>5</th>\n",
       "      <td>400</td>\n",
       "      <td>0.076923</td>\n",
       "    </tr>\n",
       "    <tr>\n",
       "      <th>6</th>\n",
       "      <td>500</td>\n",
       "      <td>0.051282</td>\n",
       "    </tr>\n",
       "    <tr>\n",
       "      <th>7</th>\n",
       "      <td>700</td>\n",
       "      <td>0.051282</td>\n",
       "    </tr>\n",
       "    <tr>\n",
       "      <th>8</th>\n",
       "      <td>800</td>\n",
       "      <td>0.051282</td>\n",
       "    </tr>\n",
       "    <tr>\n",
       "      <th>9</th>\n",
       "      <td>900</td>\n",
       "      <td>0.051282</td>\n",
       "    </tr>\n",
       "    <tr>\n",
       "      <th>10</th>\n",
       "      <td>1100</td>\n",
       "      <td>0.051282</td>\n",
       "    </tr>\n",
       "    <tr>\n",
       "      <th>11</th>\n",
       "      <td>1200</td>\n",
       "      <td>0.025641</td>\n",
       "    </tr>\n",
       "    <tr>\n",
       "      <th>12</th>\n",
       "      <td>1300</td>\n",
       "      <td>0.025641</td>\n",
       "    </tr>\n",
       "    <tr>\n",
       "      <th>13</th>\n",
       "      <td>1400</td>\n",
       "      <td>0.025641</td>\n",
       "    </tr>\n",
       "    <tr>\n",
       "      <th>14</th>\n",
       "      <td>1600</td>\n",
       "      <td>0.025641</td>\n",
       "    </tr>\n",
       "    <tr>\n",
       "      <th>15</th>\n",
       "      <td>1700</td>\n",
       "      <td>0.012821</td>\n",
       "    </tr>\n",
       "    <tr>\n",
       "      <th>16</th>\n",
       "      <td>2000</td>\n",
       "      <td>0.012821</td>\n",
       "    </tr>\n",
       "    <tr>\n",
       "      <th>17</th>\n",
       "      <td>2200</td>\n",
       "      <td>0.012821</td>\n",
       "    </tr>\n",
       "    <tr>\n",
       "      <th>18</th>\n",
       "      <td>2700</td>\n",
       "      <td>0.012821</td>\n",
       "    </tr>\n",
       "    <tr>\n",
       "      <th>19</th>\n",
       "      <td>3600</td>\n",
       "      <td>0.025641</td>\n",
       "    </tr>\n",
       "    <tr>\n",
       "      <th>20</th>\n",
       "      <td>3800</td>\n",
       "      <td>0.025641</td>\n",
       "    </tr>\n",
       "    <tr>\n",
       "      <th>21</th>\n",
       "      <td>6800</td>\n",
       "      <td>0.012821</td>\n",
       "    </tr>\n",
       "    <tr>\n",
       "      <th>22</th>\n",
       "      <td>8600</td>\n",
       "      <td>0.012821</td>\n",
       "    </tr>\n",
       "  </tbody>\n",
       "</table>\n",
       "</div>"
      ],
      "text/plain": [
       "    max_price  probability\n",
       "0        -200     0.012821\n",
       "1           0     0.089744\n",
       "2         100     0.025641\n",
       "3         200     0.179487\n",
       "4         300     0.128205\n",
       "5         400     0.076923\n",
       "6         500     0.051282\n",
       "7         700     0.051282\n",
       "8         800     0.051282\n",
       "9         900     0.051282\n",
       "10       1100     0.051282\n",
       "11       1200     0.025641\n",
       "12       1300     0.025641\n",
       "13       1400     0.025641\n",
       "14       1600     0.025641\n",
       "15       1700     0.012821\n",
       "16       2000     0.012821\n",
       "17       2200     0.012821\n",
       "18       2700     0.012821\n",
       "19       3600     0.025641\n",
       "20       3800     0.025641\n",
       "21       6800     0.012821\n",
       "22       8600     0.012821"
      ]
     },
     "execution_count": 150,
     "metadata": {},
     "output_type": "execute_result"
    }
   ],
   "source": [
    "df_P_p=df_prob.groupby(['max_price']).agg({'probability': ['sum']}). reset_index()\n",
    "df_P_p.columns = df_P_p.columns.droplevel(1)\n",
    "df_P_p"
   ]
  },
  {
   "cell_type": "markdown",
   "id": "38186e23",
   "metadata": {},
   "source": [
    "### Условное распределение"
   ]
  },
  {
   "cell_type": "markdown",
   "id": "7e01d579",
   "metadata": {},
   "source": [
    "#### P(max_price>500 | country = Germany)"
   ]
  },
  {
   "cell_type": "code",
   "execution_count": 152,
   "id": "32d3e5a4",
   "metadata": {},
   "outputs": [],
   "source": [
    "P_more500_and_UK=df_prob[(df_prob['max_price']>500)&(df_prob['country']=='Germany')]['probability'].sum()"
   ]
  },
  {
   "cell_type": "code",
   "execution_count": 153,
   "id": "a9abf497",
   "metadata": {},
   "outputs": [],
   "source": [
    "P_UK=df_prob[df_prob['country']=='Germany']['probability'].sum()"
   ]
  },
  {
   "cell_type": "code",
   "execution_count": 154,
   "id": "7e84f8e5",
   "metadata": {},
   "outputs": [
    {
     "data": {
      "text/plain": [
       "0.42857142857142855"
      ]
     },
     "execution_count": 154,
     "metadata": {},
     "output_type": "execute_result"
    }
   ],
   "source": [
    "P_more500_UK=P_more500_and_UK/P_UK\n",
    "P_more500_UK"
   ]
  },
  {
   "cell_type": "code",
   "execution_count": null,
   "id": "c0e655f2",
   "metadata": {},
   "outputs": [],
   "source": []
  },
  {
   "cell_type": "code",
   "execution_count": null,
   "id": "7714e288",
   "metadata": {},
   "outputs": [],
   "source": []
  }
 ],
 "metadata": {
  "kernelspec": {
   "display_name": "Python 3 (ipykernel)",
   "language": "python",
   "name": "python3"
  },
  "language_info": {
   "codemirror_mode": {
    "name": "ipython",
    "version": 3
   },
   "file_extension": ".py",
   "mimetype": "text/x-python",
   "name": "python",
   "nbconvert_exporter": "python",
   "pygments_lexer": "ipython3",
   "version": "3.9.12"
  }
 },
 "nbformat": 4,
 "nbformat_minor": 5
}
